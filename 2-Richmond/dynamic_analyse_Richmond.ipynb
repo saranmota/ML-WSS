{
 "cells": [
  {
   "cell_type": "code",
   "execution_count": 1,
   "metadata": {},
   "outputs": [],
   "source": [
    "import numpy as np\n",
    "import pandas as pd\n",
    "import matplotlib.pyplot as plt\n",
    "from sklearn.model_selection import train_test_split\n",
    "from sklearn.model_selection import cross_val_score\n",
    "from sklearn.preprocessing import StandardScaler,MinMaxScaler;\n",
    "from sklearn.metrics import mean_squared_error\n",
    "from sklearn.multioutput import MultiOutputRegressor\n",
    "from sklearn.ensemble import RandomForestRegressor\n",
    "import xgboost as xgb\n",
    "from sklearn.metrics import r2_score\n",
    "import joblib\n",
    "import scienceplots\n",
    "import os \n",
    "import re\n",
    "import random"
   ]
  },
  {
   "cell_type": "code",
   "execution_count": 2,
   "metadata": {},
   "outputs": [],
   "source": [
    "save_directory = r'C:\\Users\\LENOVO\\OneDrive - Universidade de Aveiro\\universidade\\Mestrado\\2º Ano\\Tese\\Códigos\\Test_epanet\\Samples\\Results\\Richmond'"
   ]
  },
  {
   "cell_type": "markdown",
   "metadata": {},
   "source": [
    "# Richmond"
   ]
  },
  {
   "cell_type": "code",
   "execution_count": 3,
   "metadata": {},
   "outputs": [],
   "source": [
    "df = pd.read_csv(r'C:\\Users\\LENOVO\\OneDrive - Universidade de Aveiro\\universidade\\Mestrado\\2º Ano\\Tese\\Códigos\\Test_epanet\\samples\\Richmond\\rich_dynamic_30_000.csv', index_col=False)\n",
    "df_out = pd.read_csv(r'C:\\Users\\LENOVO\\OneDrive - Universidade de Aveiro\\universidade\\Mestrado\\2º Ano\\Tese\\Códigos\\Test_epanet\\samples\\Richmond\\rich_dynamic_out_30_000.csv', index_col=False)"
   ]
  },
  {
   "cell_type": "code",
   "execution_count": 4,
   "metadata": {},
   "outputs": [
    {
     "data": {
      "text/html": [
       "<div>\n",
       "<style scoped>\n",
       "    .dataframe tbody tr th:only-of-type {\n",
       "        vertical-align: middle;\n",
       "    }\n",
       "\n",
       "    .dataframe tbody tr th {\n",
       "        vertical-align: top;\n",
       "    }\n",
       "\n",
       "    .dataframe thead th {\n",
       "        text-align: right;\n",
       "    }\n",
       "</style>\n",
       "<table border=\"1\" class=\"dataframe\">\n",
       "  <thead>\n",
       "    <tr style=\"text-align: right;\">\n",
       "      <th></th>\n",
       "      <th>t_step</th>\n",
       "      <th>tank_0</th>\n",
       "      <th>tank_1</th>\n",
       "      <th>tank_2</th>\n",
       "      <th>tank_3</th>\n",
       "      <th>tank_4</th>\n",
       "      <th>tank_5</th>\n",
       "      <th>pumps_0</th>\n",
       "      <th>pumps_1</th>\n",
       "      <th>pumps_2</th>\n",
       "      <th>...</th>\n",
       "      <th>junction_25</th>\n",
       "      <th>junction_27</th>\n",
       "      <th>junction_28</th>\n",
       "      <th>junction_34</th>\n",
       "      <th>tank_final_0</th>\n",
       "      <th>tank_final_1</th>\n",
       "      <th>tank_final_2</th>\n",
       "      <th>tank_final_3</th>\n",
       "      <th>tank_final_4</th>\n",
       "      <th>tank_final_5</th>\n",
       "    </tr>\n",
       "  </thead>\n",
       "  <tbody>\n",
       "    <tr>\n",
       "      <th>0</th>\n",
       "      <td>300</td>\n",
       "      <td>10.9577</td>\n",
       "      <td>8.2530</td>\n",
       "      <td>9.9047</td>\n",
       "      <td>9.4559</td>\n",
       "      <td>10.4719</td>\n",
       "      <td>1.8447</td>\n",
       "      <td>0.0</td>\n",
       "      <td>1.0</td>\n",
       "      <td>1.0</td>\n",
       "      <td>...</td>\n",
       "      <td>0.068107</td>\n",
       "      <td>2.234689</td>\n",
       "      <td>0.146088</td>\n",
       "      <td>22.779335</td>\n",
       "      <td>10.9863</td>\n",
       "      <td>8.2431</td>\n",
       "      <td>9.9062</td>\n",
       "      <td>9.4665</td>\n",
       "      <td>10.4756</td>\n",
       "      <td>1.8404</td>\n",
       "    </tr>\n",
       "    <tr>\n",
       "      <th>1</th>\n",
       "      <td>300</td>\n",
       "      <td>7.8323</td>\n",
       "      <td>10.9947</td>\n",
       "      <td>8.2816</td>\n",
       "      <td>11.5419</td>\n",
       "      <td>9.9518</td>\n",
       "      <td>0.5221</td>\n",
       "      <td>1.0</td>\n",
       "      <td>0.0</td>\n",
       "      <td>1.0</td>\n",
       "      <td>...</td>\n",
       "      <td>0.055114</td>\n",
       "      <td>2.094857</td>\n",
       "      <td>0.049487</td>\n",
       "      <td>11.106589</td>\n",
       "      <td>7.8568</td>\n",
       "      <td>11.0085</td>\n",
       "      <td>8.2526</td>\n",
       "      <td>11.5240</td>\n",
       "      <td>9.9439</td>\n",
       "      <td>0.5801</td>\n",
       "    </tr>\n",
       "    <tr>\n",
       "      <th>2</th>\n",
       "      <td>300</td>\n",
       "      <td>8.0856</td>\n",
       "      <td>11.9905</td>\n",
       "      <td>4.0415</td>\n",
       "      <td>3.4809</td>\n",
       "      <td>7.4476</td>\n",
       "      <td>11.3622</td>\n",
       "      <td>0.0</td>\n",
       "      <td>1.0</td>\n",
       "      <td>1.0</td>\n",
       "      <td>...</td>\n",
       "      <td>0.090135</td>\n",
       "      <td>2.067899</td>\n",
       "      <td>0.081345</td>\n",
       "      <td>14.142575</td>\n",
       "      <td>8.1135</td>\n",
       "      <td>12.0144</td>\n",
       "      <td>4.0167</td>\n",
       "      <td>3.4582</td>\n",
       "      <td>7.4516</td>\n",
       "      <td>11.3598</td>\n",
       "    </tr>\n",
       "    <tr>\n",
       "      <th>3</th>\n",
       "      <td>300</td>\n",
       "      <td>9.1189</td>\n",
       "      <td>10.7665</td>\n",
       "      <td>10.2571</td>\n",
       "      <td>1.6042</td>\n",
       "      <td>9.8643</td>\n",
       "      <td>8.4563</td>\n",
       "      <td>0.0</td>\n",
       "      <td>0.0</td>\n",
       "      <td>0.0</td>\n",
       "      <td>...</td>\n",
       "      <td>0.112894</td>\n",
       "      <td>0.725460</td>\n",
       "      <td>0.067134</td>\n",
       "      <td>7.474760</td>\n",
       "      <td>9.1074</td>\n",
       "      <td>10.7636</td>\n",
       "      <td>10.2646</td>\n",
       "      <td>1.5922</td>\n",
       "      <td>9.8772</td>\n",
       "      <td>8.4543</td>\n",
       "    </tr>\n",
       "    <tr>\n",
       "      <th>4</th>\n",
       "      <td>300</td>\n",
       "      <td>11.8616</td>\n",
       "      <td>2.8812</td>\n",
       "      <td>2.3794</td>\n",
       "      <td>6.2762</td>\n",
       "      <td>6.7450</td>\n",
       "      <td>6.2102</td>\n",
       "      <td>1.0</td>\n",
       "      <td>0.0</td>\n",
       "      <td>0.0</td>\n",
       "      <td>...</td>\n",
       "      <td>0.102647</td>\n",
       "      <td>1.094591</td>\n",
       "      <td>0.041792</td>\n",
       "      <td>18.513454</td>\n",
       "      <td>11.8545</td>\n",
       "      <td>2.8641</td>\n",
       "      <td>2.3844</td>\n",
       "      <td>6.2464</td>\n",
       "      <td>6.7474</td>\n",
       "      <td>6.2438</td>\n",
       "    </tr>\n",
       "  </tbody>\n",
       "</table>\n",
       "<p>5 rows × 37 columns</p>\n",
       "</div>"
      ],
      "text/plain": [
       "   t_step   tank_0   tank_1   tank_2   tank_3   tank_4   tank_5  pumps_0  \\\n",
       "0     300  10.9577   8.2530   9.9047   9.4559  10.4719   1.8447      0.0   \n",
       "1     300   7.8323  10.9947   8.2816  11.5419   9.9518   0.5221      1.0   \n",
       "2     300   8.0856  11.9905   4.0415   3.4809   7.4476  11.3622      0.0   \n",
       "3     300   9.1189  10.7665  10.2571   1.6042   9.8643   8.4563      0.0   \n",
       "4     300  11.8616   2.8812   2.3794   6.2762   6.7450   6.2102      1.0   \n",
       "\n",
       "   pumps_1  pumps_2  ...  junction_25  junction_27  junction_28  junction_34  \\\n",
       "0      1.0      1.0  ...     0.068107     2.234689     0.146088    22.779335   \n",
       "1      0.0      1.0  ...     0.055114     2.094857     0.049487    11.106589   \n",
       "2      1.0      1.0  ...     0.090135     2.067899     0.081345    14.142575   \n",
       "3      0.0      0.0  ...     0.112894     0.725460     0.067134     7.474760   \n",
       "4      0.0      0.0  ...     0.102647     1.094591     0.041792    18.513454   \n",
       "\n",
       "   tank_final_0  tank_final_1  tank_final_2  tank_final_3  tank_final_4  \\\n",
       "0       10.9863        8.2431        9.9062        9.4665       10.4756   \n",
       "1        7.8568       11.0085        8.2526       11.5240        9.9439   \n",
       "2        8.1135       12.0144        4.0167        3.4582        7.4516   \n",
       "3        9.1074       10.7636       10.2646        1.5922        9.8772   \n",
       "4       11.8545        2.8641        2.3844        6.2464        6.7474   \n",
       "\n",
       "   tank_final_5  \n",
       "0        1.8404  \n",
       "1        0.5801  \n",
       "2       11.3598  \n",
       "3        8.4543  \n",
       "4        6.2438  \n",
       "\n",
       "[5 rows x 37 columns]"
      ]
     },
     "execution_count": 4,
     "metadata": {},
     "output_type": "execute_result"
    }
   ],
   "source": [
    "df.head()"
   ]
  },
  {
   "cell_type": "code",
   "execution_count": 5,
   "metadata": {},
   "outputs": [
    {
     "data": {
      "text/plain": [
       "Index(['t_step', 'tank_0', 'tank_1', 'tank_2', 'tank_3', 'tank_4', 'tank_5',\n",
       "       'pumps_0', 'pumps_1', 'pumps_2', 'pumps_3', 'pumps_4', 'pumps_5',\n",
       "       'pumps_6', 'pumps_kw_0', 'pumps_kw_1', 'pumps_kw_2', 'pumps_kw_3',\n",
       "       'pumps_kw_4', 'pumps_kw_5', 'pumps_kw_6', 'junction_2', 'junction_3',\n",
       "       'junction_10', 'junction_13', 'junction_16', 'junction_24',\n",
       "       'junction_25', 'junction_27', 'junction_28', 'junction_34',\n",
       "       'tank_final_0', 'tank_final_1', 'tank_final_2', 'tank_final_3',\n",
       "       'tank_final_4', 'tank_final_5'],\n",
       "      dtype='object')"
      ]
     },
     "execution_count": 5,
     "metadata": {},
     "output_type": "execute_result"
    }
   ],
   "source": [
    "df.columns"
   ]
  },
  {
   "cell_type": "code",
   "execution_count": 6,
   "metadata": {},
   "outputs": [
    {
     "data": {
      "text/plain": [
       "Index(['Δtank_0', 'Δtank_1', 'Δtank_2', 'Δtank_3', 'Δtank_4', 'Δtank_5'], dtype='object')"
      ]
     },
     "execution_count": 6,
     "metadata": {},
     "output_type": "execute_result"
    }
   ],
   "source": [
    "df_out.columns"
   ]
  },
  {
   "cell_type": "markdown",
   "metadata": {},
   "source": [
    "**Passar potencia das bombas para output**"
   ]
  },
  {
   "cell_type": "code",
   "execution_count": 7,
   "metadata": {},
   "outputs": [],
   "source": [
    "for f in range (7):\n",
    "    df_out['pumps_kw_'+str(f)] = df.filter(['pumps_kw_'+str(f)],axis=1)"
   ]
  },
  {
   "cell_type": "code",
   "execution_count": 8,
   "metadata": {},
   "outputs": [
    {
     "name": "stdout",
     "output_type": "stream",
     "text": [
      "Index(['t_step', 'tank_0', 'tank_1', 'tank_2', 'tank_3', 'tank_4', 'tank_5',\n",
      "       'pumps_0', 'pumps_1', 'pumps_2', 'pumps_3', 'pumps_4', 'pumps_5',\n",
      "       'pumps_6', 'junction_2', 'junction_3', 'junction_10', 'junction_13',\n",
      "       'junction_16', 'junction_24', 'junction_25', 'junction_27',\n",
      "       'junction_28', 'junction_34', 'tank_final_0', 'tank_final_1',\n",
      "       'tank_final_2', 'tank_final_3', 'tank_final_4', 'tank_final_5'],\n",
      "      dtype='object')\n"
     ]
    }
   ],
   "source": [
    "columns_to_drop = [column for column in df.columns if column.startswith('pumps_kw_')]\n",
    "# Drop the specified columns from the DataFrame\n",
    "df = df.drop(columns=columns_to_drop)\n",
    "# Print the DataFrame after dropping the columns\n",
    "print(df.columns)\n"
   ]
  },
  {
   "cell_type": "markdown",
   "metadata": {},
   "source": [
    "Alterar nome tank_final_... para final_tank_..."
   ]
  },
  {
   "cell_type": "code",
   "execution_count": 9,
   "metadata": {},
   "outputs": [
    {
     "name": "stdout",
     "output_type": "stream",
     "text": [
      "Index(['t_step', 'tank_0', 'tank_1', 'tank_2', 'tank_3', 'tank_4', 'tank_5',\n",
      "       'pumps_0', 'pumps_1', 'pumps_2', 'pumps_3', 'pumps_4', 'pumps_5',\n",
      "       'pumps_6', 'junction_2', 'junction_3', 'junction_10', 'junction_13',\n",
      "       'junction_16', 'junction_24', 'junction_25', 'junction_27',\n",
      "       'junction_28', 'junction_34', 'final_tank_0', 'final_tank_1',\n",
      "       'final_tank_2', 'final_tank_3', 'final_tank_4', 'final_tank_5'],\n",
      "      dtype='object')\n"
     ]
    }
   ],
   "source": [
    "columns_to_rename = [column for column in df.columns if column.startswith('tank_final_')]\n",
    "# Rename the columns\n",
    "renamed_columns = {column: column.replace('tank_final_', 'final_tank_') for column in columns_to_rename}\n",
    "df = df.rename(columns=renamed_columns)\n",
    "print(df.columns)"
   ]
  },
  {
   "cell_type": "code",
   "execution_count": 10,
   "metadata": {},
   "outputs": [
    {
     "data": {
      "text/html": [
       "<div>\n",
       "<style scoped>\n",
       "    .dataframe tbody tr th:only-of-type {\n",
       "        vertical-align: middle;\n",
       "    }\n",
       "\n",
       "    .dataframe tbody tr th {\n",
       "        vertical-align: top;\n",
       "    }\n",
       "\n",
       "    .dataframe thead th {\n",
       "        text-align: right;\n",
       "    }\n",
       "</style>\n",
       "<table border=\"1\" class=\"dataframe\">\n",
       "  <thead>\n",
       "    <tr style=\"text-align: right;\">\n",
       "      <th></th>\n",
       "      <th>Δtank_0</th>\n",
       "      <th>Δtank_1</th>\n",
       "      <th>Δtank_2</th>\n",
       "      <th>Δtank_3</th>\n",
       "      <th>Δtank_4</th>\n",
       "      <th>Δtank_5</th>\n",
       "      <th>pumps_kw_0</th>\n",
       "      <th>pumps_kw_1</th>\n",
       "      <th>pumps_kw_2</th>\n",
       "      <th>pumps_kw_3</th>\n",
       "      <th>pumps_kw_4</th>\n",
       "      <th>pumps_kw_5</th>\n",
       "      <th>pumps_kw_6</th>\n",
       "    </tr>\n",
       "  </thead>\n",
       "  <tbody>\n",
       "    <tr>\n",
       "      <th>0</th>\n",
       "      <td>0.000095</td>\n",
       "      <td>-0.000033</td>\n",
       "      <td>0.000005</td>\n",
       "      <td>0.000035</td>\n",
       "      <td>0.000012</td>\n",
       "      <td>-0.000014</td>\n",
       "      <td>0.00</td>\n",
       "      <td>59.51</td>\n",
       "      <td>6.46</td>\n",
       "      <td>11.83</td>\n",
       "      <td>21.18</td>\n",
       "      <td>17.07</td>\n",
       "      <td>0.00</td>\n",
       "    </tr>\n",
       "    <tr>\n",
       "      <th>1</th>\n",
       "      <td>0.000082</td>\n",
       "      <td>0.000046</td>\n",
       "      <td>-0.000097</td>\n",
       "      <td>-0.000060</td>\n",
       "      <td>-0.000026</td>\n",
       "      <td>0.000193</td>\n",
       "      <td>1.87</td>\n",
       "      <td>0.00</td>\n",
       "      <td>6.28</td>\n",
       "      <td>0.00</td>\n",
       "      <td>21.26</td>\n",
       "      <td>0.00</td>\n",
       "      <td>59.36</td>\n",
       "    </tr>\n",
       "    <tr>\n",
       "      <th>2</th>\n",
       "      <td>0.000093</td>\n",
       "      <td>0.000080</td>\n",
       "      <td>-0.000083</td>\n",
       "      <td>-0.000076</td>\n",
       "      <td>0.000013</td>\n",
       "      <td>-0.000008</td>\n",
       "      <td>0.00</td>\n",
       "      <td>48.73</td>\n",
       "      <td>6.15</td>\n",
       "      <td>0.00</td>\n",
       "      <td>21.88</td>\n",
       "      <td>0.00</td>\n",
       "      <td>48.73</td>\n",
       "    </tr>\n",
       "    <tr>\n",
       "      <th>3</th>\n",
       "      <td>-0.000038</td>\n",
       "      <td>-0.000010</td>\n",
       "      <td>0.000025</td>\n",
       "      <td>-0.000040</td>\n",
       "      <td>0.000043</td>\n",
       "      <td>-0.000007</td>\n",
       "      <td>0.00</td>\n",
       "      <td>0.00</td>\n",
       "      <td>0.00</td>\n",
       "      <td>11.85</td>\n",
       "      <td>0.00</td>\n",
       "      <td>0.00</td>\n",
       "      <td>43.52</td>\n",
       "    </tr>\n",
       "    <tr>\n",
       "      <th>4</th>\n",
       "      <td>-0.000024</td>\n",
       "      <td>-0.000057</td>\n",
       "      <td>0.000017</td>\n",
       "      <td>-0.000099</td>\n",
       "      <td>0.000008</td>\n",
       "      <td>0.000112</td>\n",
       "      <td>1.61</td>\n",
       "      <td>0.00</td>\n",
       "      <td>0.00</td>\n",
       "      <td>11.86</td>\n",
       "      <td>0.00</td>\n",
       "      <td>0.00</td>\n",
       "      <td>0.00</td>\n",
       "    </tr>\n",
       "  </tbody>\n",
       "</table>\n",
       "</div>"
      ],
      "text/plain": [
       "    Δtank_0   Δtank_1   Δtank_2   Δtank_3   Δtank_4   Δtank_5  pumps_kw_0  \\\n",
       "0  0.000095 -0.000033  0.000005  0.000035  0.000012 -0.000014        0.00   \n",
       "1  0.000082  0.000046 -0.000097 -0.000060 -0.000026  0.000193        1.87   \n",
       "2  0.000093  0.000080 -0.000083 -0.000076  0.000013 -0.000008        0.00   \n",
       "3 -0.000038 -0.000010  0.000025 -0.000040  0.000043 -0.000007        0.00   \n",
       "4 -0.000024 -0.000057  0.000017 -0.000099  0.000008  0.000112        1.61   \n",
       "\n",
       "   pumps_kw_1  pumps_kw_2  pumps_kw_3  pumps_kw_4  pumps_kw_5  pumps_kw_6  \n",
       "0       59.51        6.46       11.83       21.18       17.07        0.00  \n",
       "1        0.00        6.28        0.00       21.26        0.00       59.36  \n",
       "2       48.73        6.15        0.00       21.88        0.00       48.73  \n",
       "3        0.00        0.00       11.85        0.00        0.00       43.52  \n",
       "4        0.00        0.00       11.86        0.00        0.00        0.00  "
      ]
     },
     "execution_count": 10,
     "metadata": {},
     "output_type": "execute_result"
    }
   ],
   "source": [
    "df_out.head()\n",
    "# pumps_energy in Kw"
   ]
  },
  {
   "cell_type": "code",
   "execution_count": 11,
   "metadata": {},
   "outputs": [
    {
     "data": {
      "text/plain": [
       "t_step          300.000000\n",
       "tank_0           11.999600\n",
       "tank_1           13.369400\n",
       "tank_2           12.109600\n",
       "tank_3           13.649700\n",
       "tank_4           12.689700\n",
       "tank_5           12.189900\n",
       "pumps_0           1.000000\n",
       "pumps_1           1.000000\n",
       "pumps_2           1.000000\n",
       "pumps_3           1.000000\n",
       "pumps_4           1.000000\n",
       "pumps_5           1.000000\n",
       "pumps_6           1.000000\n",
       "junction_2        9.144517\n",
       "junction_3        5.924525\n",
       "junction_10      18.192862\n",
       "junction_13       3.429300\n",
       "junction_16       5.972986\n",
       "junction_24       1.609962\n",
       "junction_25       0.177096\n",
       "junction_27       2.286156\n",
       "junction_28       0.161000\n",
       "junction_34      26.162090\n",
       "final_tank_0     12.000000\n",
       "final_tank_1     13.370000\n",
       "final_tank_2     12.110000\n",
       "final_tank_3     13.650000\n",
       "final_tank_4     12.690000\n",
       "final_tank_5     12.190000\n",
       "dtype: float64"
      ]
     },
     "execution_count": 11,
     "metadata": {},
     "output_type": "execute_result"
    }
   ],
   "source": [
    "df.max() #Para verificar o valor maximo de todas as variáveis."
   ]
  },
  {
   "cell_type": "code",
   "execution_count": 12,
   "metadata": {},
   "outputs": [
    {
     "data": {
      "text/html": [
       "<div>\n",
       "<style scoped>\n",
       "    .dataframe tbody tr th:only-of-type {\n",
       "        vertical-align: middle;\n",
       "    }\n",
       "\n",
       "    .dataframe tbody tr th {\n",
       "        vertical-align: top;\n",
       "    }\n",
       "\n",
       "    .dataframe thead th {\n",
       "        text-align: right;\n",
       "    }\n",
       "</style>\n",
       "<table border=\"1\" class=\"dataframe\">\n",
       "  <thead>\n",
       "    <tr style=\"text-align: right;\">\n",
       "      <th></th>\n",
       "      <th>Δtank_0</th>\n",
       "      <th>Δtank_1</th>\n",
       "      <th>Δtank_2</th>\n",
       "      <th>Δtank_3</th>\n",
       "      <th>Δtank_4</th>\n",
       "      <th>Δtank_5</th>\n",
       "      <th>pumps_kw_0</th>\n",
       "      <th>pumps_kw_1</th>\n",
       "      <th>pumps_kw_2</th>\n",
       "      <th>pumps_kw_3</th>\n",
       "      <th>pumps_kw_4</th>\n",
       "      <th>pumps_kw_5</th>\n",
       "      <th>pumps_kw_6</th>\n",
       "      <th>total_pumps_kw</th>\n",
       "    </tr>\n",
       "  </thead>\n",
       "  <tbody>\n",
       "    <tr>\n",
       "      <th>0</th>\n",
       "      <td>0.000095</td>\n",
       "      <td>-0.000033</td>\n",
       "      <td>0.000005</td>\n",
       "      <td>0.000035</td>\n",
       "      <td>0.000012</td>\n",
       "      <td>-0.000014</td>\n",
       "      <td>0.00</td>\n",
       "      <td>59.51</td>\n",
       "      <td>6.46</td>\n",
       "      <td>11.83</td>\n",
       "      <td>21.18</td>\n",
       "      <td>17.07</td>\n",
       "      <td>0.00</td>\n",
       "      <td>116.05</td>\n",
       "    </tr>\n",
       "    <tr>\n",
       "      <th>1</th>\n",
       "      <td>0.000082</td>\n",
       "      <td>0.000046</td>\n",
       "      <td>-0.000097</td>\n",
       "      <td>-0.000060</td>\n",
       "      <td>-0.000026</td>\n",
       "      <td>0.000193</td>\n",
       "      <td>1.87</td>\n",
       "      <td>0.00</td>\n",
       "      <td>6.28</td>\n",
       "      <td>0.00</td>\n",
       "      <td>21.26</td>\n",
       "      <td>0.00</td>\n",
       "      <td>59.36</td>\n",
       "      <td>88.77</td>\n",
       "    </tr>\n",
       "    <tr>\n",
       "      <th>2</th>\n",
       "      <td>0.000093</td>\n",
       "      <td>0.000080</td>\n",
       "      <td>-0.000083</td>\n",
       "      <td>-0.000076</td>\n",
       "      <td>0.000013</td>\n",
       "      <td>-0.000008</td>\n",
       "      <td>0.00</td>\n",
       "      <td>48.73</td>\n",
       "      <td>6.15</td>\n",
       "      <td>0.00</td>\n",
       "      <td>21.88</td>\n",
       "      <td>0.00</td>\n",
       "      <td>48.73</td>\n",
       "      <td>125.49</td>\n",
       "    </tr>\n",
       "    <tr>\n",
       "      <th>3</th>\n",
       "      <td>-0.000038</td>\n",
       "      <td>-0.000010</td>\n",
       "      <td>0.000025</td>\n",
       "      <td>-0.000040</td>\n",
       "      <td>0.000043</td>\n",
       "      <td>-0.000007</td>\n",
       "      <td>0.00</td>\n",
       "      <td>0.00</td>\n",
       "      <td>0.00</td>\n",
       "      <td>11.85</td>\n",
       "      <td>0.00</td>\n",
       "      <td>0.00</td>\n",
       "      <td>43.52</td>\n",
       "      <td>55.37</td>\n",
       "    </tr>\n",
       "    <tr>\n",
       "      <th>4</th>\n",
       "      <td>-0.000024</td>\n",
       "      <td>-0.000057</td>\n",
       "      <td>0.000017</td>\n",
       "      <td>-0.000099</td>\n",
       "      <td>0.000008</td>\n",
       "      <td>0.000112</td>\n",
       "      <td>1.61</td>\n",
       "      <td>0.00</td>\n",
       "      <td>0.00</td>\n",
       "      <td>11.86</td>\n",
       "      <td>0.00</td>\n",
       "      <td>0.00</td>\n",
       "      <td>0.00</td>\n",
       "      <td>13.47</td>\n",
       "    </tr>\n",
       "  </tbody>\n",
       "</table>\n",
       "</div>"
      ],
      "text/plain": [
       "    Δtank_0   Δtank_1   Δtank_2   Δtank_3   Δtank_4   Δtank_5  pumps_kw_0  \\\n",
       "0  0.000095 -0.000033  0.000005  0.000035  0.000012 -0.000014        0.00   \n",
       "1  0.000082  0.000046 -0.000097 -0.000060 -0.000026  0.000193        1.87   \n",
       "2  0.000093  0.000080 -0.000083 -0.000076  0.000013 -0.000008        0.00   \n",
       "3 -0.000038 -0.000010  0.000025 -0.000040  0.000043 -0.000007        0.00   \n",
       "4 -0.000024 -0.000057  0.000017 -0.000099  0.000008  0.000112        1.61   \n",
       "\n",
       "   pumps_kw_1  pumps_kw_2  pumps_kw_3  pumps_kw_4  pumps_kw_5  pumps_kw_6  \\\n",
       "0       59.51        6.46       11.83       21.18       17.07        0.00   \n",
       "1        0.00        6.28        0.00       21.26        0.00       59.36   \n",
       "2       48.73        6.15        0.00       21.88        0.00       48.73   \n",
       "3        0.00        0.00       11.85        0.00        0.00       43.52   \n",
       "4        0.00        0.00       11.86        0.00        0.00        0.00   \n",
       "\n",
       "   total_pumps_kw  \n",
       "0          116.05  \n",
       "1           88.77  \n",
       "2          125.49  \n",
       "3           55.37  \n",
       "4           13.47  "
      ]
     },
     "execution_count": 12,
     "metadata": {},
     "output_type": "execute_result"
    }
   ],
   "source": [
    "# somatorio da potencia de todas as bombas naquele time step\n",
    "df_out[\"total_pumps_kw\"] = 0\n",
    "for d in range(7):\n",
    "    df_out[\"total_pumps_kw\"] += df_out[\"pumps_kw_\"+str(d)]\n",
    "df_out.head()"
   ]
  },
  {
   "cell_type": "markdown",
   "metadata": {},
   "source": [
    "## SPLIT x and y"
   ]
  },
  {
   "cell_type": "code",
   "execution_count": 13,
   "metadata": {},
   "outputs": [],
   "source": [
    "# In\n",
    "X = df.loc[:, 'tank_0':'junction_34']\n",
    "# Out\n",
    "y= df_out.loc[:,'Δtank_0':'pumps_kw_6']\n",
    "\n",
    "new_x = X.copy()\n"
   ]
  },
  {
   "cell_type": "markdown",
   "metadata": {},
   "source": [
    "### Train/Test split"
   ]
  },
  {
   "cell_type": "code",
   "execution_count": 14,
   "metadata": {},
   "outputs": [],
   "source": [
    "X_temp, X_test, y_temp, y_test = train_test_split(X, y, test_size=0.1, random_state=42)\n",
    "X_train, X_val, y_train, y_val = train_test_split(X_temp, y_temp, test_size=0.2, random_state=42)"
   ]
  },
  {
   "cell_type": "markdown",
   "metadata": {},
   "source": [
    "## Standardize tanks, demands and pumps kw."
   ]
  },
  {
   "cell_type": "code",
   "execution_count": 15,
   "metadata": {},
   "outputs": [],
   "source": [
    "X_train_st=X_train.copy()\n",
    "y_train_st=y_train.copy()\n",
    "x_test_st=X_test.copy()\n",
    "y_test_st=y_test.copy()\n",
    "x_val_st=X_val.copy()\n",
    "y_val_st=y_val.copy()"
   ]
  },
  {
   "cell_type": "code",
   "execution_count": 16,
   "metadata": {},
   "outputs": [
    {
     "data": {
      "text/html": [
       "<div>\n",
       "<style scoped>\n",
       "    .dataframe tbody tr th:only-of-type {\n",
       "        vertical-align: middle;\n",
       "    }\n",
       "\n",
       "    .dataframe tbody tr th {\n",
       "        vertical-align: top;\n",
       "    }\n",
       "\n",
       "    .dataframe thead th {\n",
       "        text-align: right;\n",
       "    }\n",
       "</style>\n",
       "<table border=\"1\" class=\"dataframe\">\n",
       "  <thead>\n",
       "    <tr style=\"text-align: right;\">\n",
       "      <th></th>\n",
       "      <th>Δtank_0</th>\n",
       "      <th>Δtank_1</th>\n",
       "      <th>Δtank_2</th>\n",
       "      <th>Δtank_3</th>\n",
       "      <th>Δtank_4</th>\n",
       "      <th>Δtank_5</th>\n",
       "      <th>pumps_kw_0</th>\n",
       "      <th>pumps_kw_1</th>\n",
       "      <th>pumps_kw_2</th>\n",
       "      <th>pumps_kw_3</th>\n",
       "      <th>pumps_kw_4</th>\n",
       "      <th>pumps_kw_5</th>\n",
       "      <th>pumps_kw_6</th>\n",
       "    </tr>\n",
       "  </thead>\n",
       "  <tbody>\n",
       "    <tr>\n",
       "      <th>1860</th>\n",
       "      <td>0.691071</td>\n",
       "      <td>0.684861</td>\n",
       "      <td>0.756654</td>\n",
       "      <td>0.186822</td>\n",
       "      <td>0.850174</td>\n",
       "      <td>0.061576</td>\n",
       "      <td>0.000000</td>\n",
       "      <td>0.000000</td>\n",
       "      <td>0.799423</td>\n",
       "      <td>0.941879</td>\n",
       "      <td>0.962375</td>\n",
       "      <td>0.000000</td>\n",
       "      <td>0.943209</td>\n",
       "    </tr>\n",
       "    <tr>\n",
       "      <th>20824</th>\n",
       "      <td>0.069643</td>\n",
       "      <td>0.745623</td>\n",
       "      <td>0.631179</td>\n",
       "      <td>0.173478</td>\n",
       "      <td>0.804878</td>\n",
       "      <td>0.076355</td>\n",
       "      <td>0.000000</td>\n",
       "      <td>0.996055</td>\n",
       "      <td>0.000000</td>\n",
       "      <td>0.941083</td>\n",
       "      <td>0.959655</td>\n",
       "      <td>0.000000</td>\n",
       "      <td>0.000000</td>\n",
       "    </tr>\n",
       "    <tr>\n",
       "      <th>21498</th>\n",
       "      <td>0.817857</td>\n",
       "      <td>0.312049</td>\n",
       "      <td>0.117871</td>\n",
       "      <td>0.567139</td>\n",
       "      <td>0.651568</td>\n",
       "      <td>0.072660</td>\n",
       "      <td>0.000000</td>\n",
       "      <td>0.000000</td>\n",
       "      <td>0.974026</td>\n",
       "      <td>0.000000</td>\n",
       "      <td>0.000000</td>\n",
       "      <td>0.832536</td>\n",
       "      <td>0.000000</td>\n",
       "    </tr>\n",
       "    <tr>\n",
       "      <th>6959</th>\n",
       "      <td>0.100000</td>\n",
       "      <td>0.805355</td>\n",
       "      <td>0.378327</td>\n",
       "      <td>0.386989</td>\n",
       "      <td>0.327526</td>\n",
       "      <td>0.983990</td>\n",
       "      <td>0.995025</td>\n",
       "      <td>0.834950</td>\n",
       "      <td>0.000000</td>\n",
       "      <td>0.000000</td>\n",
       "      <td>1.000000</td>\n",
       "      <td>0.805263</td>\n",
       "      <td>0.801230</td>\n",
       "    </tr>\n",
       "    <tr>\n",
       "      <th>26618</th>\n",
       "      <td>0.919643</td>\n",
       "      <td>0.595263</td>\n",
       "      <td>0.760456</td>\n",
       "      <td>0.110092</td>\n",
       "      <td>0.689895</td>\n",
       "      <td>0.080049</td>\n",
       "      <td>0.000000</td>\n",
       "      <td>0.720368</td>\n",
       "      <td>0.958153</td>\n",
       "      <td>0.942675</td>\n",
       "      <td>0.000000</td>\n",
       "      <td>0.000000</td>\n",
       "      <td>0.691276</td>\n",
       "    </tr>\n",
       "  </tbody>\n",
       "</table>\n",
       "</div>"
      ],
      "text/plain": [
       "        Δtank_0   Δtank_1   Δtank_2   Δtank_3   Δtank_4   Δtank_5  pumps_kw_0  \\\n",
       "1860   0.691071  0.684861  0.756654  0.186822  0.850174  0.061576    0.000000   \n",
       "20824  0.069643  0.745623  0.631179  0.173478  0.804878  0.076355    0.000000   \n",
       "21498  0.817857  0.312049  0.117871  0.567139  0.651568  0.072660    0.000000   \n",
       "6959   0.100000  0.805355  0.378327  0.386989  0.327526  0.983990    0.995025   \n",
       "26618  0.919643  0.595263  0.760456  0.110092  0.689895  0.080049    0.000000   \n",
       "\n",
       "       pumps_kw_1  pumps_kw_2  pumps_kw_3  pumps_kw_4  pumps_kw_5  pumps_kw_6  \n",
       "1860     0.000000    0.799423    0.941879    0.962375    0.000000    0.943209  \n",
       "20824    0.996055    0.000000    0.941083    0.959655    0.000000    0.000000  \n",
       "21498    0.000000    0.974026    0.000000    0.000000    0.832536    0.000000  \n",
       "6959     0.834950    0.000000    0.000000    1.000000    0.805263    0.801230  \n",
       "26618    0.720368    0.958153    0.942675    0.000000    0.000000    0.691276  "
      ]
     },
     "execution_count": 16,
     "metadata": {},
     "output_type": "execute_result"
    }
   ],
   "source": [
    "#in\n",
    "tank_columns = [column for column in X_train.columns if column.startswith('tank_')]\n",
    "junction_columns = [column for column in X_train.columns if column.startswith('junction_')]\n",
    "#out\n",
    "Δtank_columns = [column for column in y_train.columns if column.startswith('Δtank_')]\n",
    "pumps_kw_columns = [column for column in y_train.columns if column.startswith('pumps_kw')]\n",
    "\n",
    "# Specify the columns you want to normalize\n",
    "columns_to_normalize1 = tank_columns + junction_columns\n",
    "columns_to_normalize2 = Δtank_columns + pumps_kw_columns\n",
    "\n",
    "# Initialize the MinMaxScaler and normalize columns\n",
    "scaler_in2 = MinMaxScaler()\n",
    "scaler_out2 = MinMaxScaler()\n",
    "\n",
    "# Normalize \n",
    "X_train_st[columns_to_normalize1] = scaler_in2.fit_transform(X_train[columns_to_normalize1])\n",
    "y_train_st[columns_to_normalize2] = scaler_out2.fit_transform(y_train[columns_to_normalize2])\n",
    "\n",
    "# For test\n",
    "x_test_st[columns_to_normalize1] = scaler_in2.transform(X_test[columns_to_normalize1])\n",
    "y_test_st[columns_to_normalize2] = scaler_out2.transform(y_test[columns_to_normalize2])\n",
    "# For val\n",
    "x_val_st[columns_to_normalize1] = scaler_in2.transform(X_val[columns_to_normalize1])\n",
    "y_val_st[columns_to_normalize2] = scaler_out2.transform(y_val[columns_to_normalize2])\n",
    "\n",
    "\n",
    "y_train_st.head(5)"
   ]
  },
  {
   "cell_type": "code",
   "execution_count": 17,
   "metadata": {},
   "outputs": [
    {
     "data": {
      "text/plain": [
       "array(['tank_0', 'tank_1', 'tank_2', 'tank_3', 'tank_4', 'tank_5',\n",
       "       'junction_2', 'junction_3', 'junction_10', 'junction_13',\n",
       "       'junction_16', 'junction_24', 'junction_25', 'junction_27',\n",
       "       'junction_28', 'junction_34'], dtype=object)"
      ]
     },
     "execution_count": 17,
     "metadata": {},
     "output_type": "execute_result"
    }
   ],
   "source": [
    "scaler_in2.feature_names_in_ # saber porque colunas passou o scaler"
   ]
  },
  {
   "cell_type": "code",
   "execution_count": 18,
   "metadata": {},
   "outputs": [
    {
     "data": {
      "text/plain": [
       "array(['Δtank_0', 'Δtank_1', 'Δtank_2', 'Δtank_3', 'Δtank_4', 'Δtank_5',\n",
       "       'pumps_kw_0', 'pumps_kw_1', 'pumps_kw_2', 'pumps_kw_3',\n",
       "       'pumps_kw_4', 'pumps_kw_5', 'pumps_kw_6'], dtype=object)"
      ]
     },
     "execution_count": 18,
     "metadata": {},
     "output_type": "execute_result"
    }
   ],
   "source": [
    "scaler_out2.feature_names_in_ # saber porque colunas passou o scaler"
   ]
  },
  {
   "cell_type": "markdown",
   "metadata": {},
   "source": [
    "Organizing dataset"
   ]
  },
  {
   "cell_type": "code",
   "execution_count": 19,
   "metadata": {
    "scrolled": true
   },
   "outputs": [
    {
     "data": {
      "text/plain": [
       "Index(['tank_0', 'tank_1', 'tank_2', 'tank_3', 'tank_4', 'tank_5', 'pumps_0',\n",
       "       'pumps_1', 'pumps_2', 'pumps_3', 'pumps_4', 'pumps_5', 'pumps_6',\n",
       "       'junction_2', 'junction_3', 'junction_10', 'junction_13', 'junction_16',\n",
       "       'junction_24', 'junction_25', 'junction_27', 'junction_28',\n",
       "       'junction_34'],\n",
       "      dtype='object')"
      ]
     },
     "execution_count": 19,
     "metadata": {},
     "output_type": "execute_result"
    }
   ],
   "source": [
    "X_train_st.columns"
   ]
  },
  {
   "cell_type": "code",
   "execution_count": 20,
   "metadata": {},
   "outputs": [
    {
     "data": {
      "text/plain": [
       "Index(['Δtank_0', 'Δtank_1', 'Δtank_2', 'Δtank_3', 'Δtank_4', 'Δtank_5',\n",
       "       'pumps_kw_0', 'pumps_kw_1', 'pumps_kw_2', 'pumps_kw_3', 'pumps_kw_4',\n",
       "       'pumps_kw_5', 'pumps_kw_6'],\n",
       "      dtype='object')"
      ]
     },
     "execution_count": 20,
     "metadata": {},
     "output_type": "execute_result"
    }
   ],
   "source": [
    "y_train_st.columns"
   ]
  },
  {
   "cell_type": "markdown",
   "metadata": {},
   "source": [
    "## Modelo Xgboost"
   ]
  },
  {
   "cell_type": "markdown",
   "metadata": {},
   "source": [
    "### Fitting the model and predicting"
   ]
  },
  {
   "cell_type": "code",
   "execution_count": 21,
   "metadata": {},
   "outputs": [
    {
     "name": "stderr",
     "output_type": "stream",
     "text": [
      "c:\\Users\\LENOVO\\AppData\\Local\\Programs\\Python\\Python311\\Lib\\site-packages\\xgboost\\sklearn.py:835: UserWarning: `early_stopping_rounds` in `fit` method is deprecated for better compatibility with scikit-learn, use `early_stopping_rounds` in constructor or`set_params` instead.\n",
      "  warnings.warn(\n"
     ]
    },
    {
     "name": "stdout",
     "output_type": "stream",
     "text": [
      "[0]\tvalidation_0-rmse:0.36640\tvalidation_1-rmse:0.36683\n"
     ]
    },
    {
     "name": "stdout",
     "output_type": "stream",
     "text": [
      "[1]\tvalidation_0-rmse:0.34814\tvalidation_1-rmse:0.34859\n",
      "[2]\tvalidation_0-rmse:0.33080\tvalidation_1-rmse:0.33125\n",
      "[3]\tvalidation_0-rmse:0.31433\tvalidation_1-rmse:0.31479\n",
      "[4]\tvalidation_0-rmse:0.29868\tvalidation_1-rmse:0.29915\n",
      "[5]\tvalidation_0-rmse:0.28380\tvalidation_1-rmse:0.28429\n",
      "[6]\tvalidation_0-rmse:0.26967\tvalidation_1-rmse:0.27017\n",
      "[7]\tvalidation_0-rmse:0.25625\tvalidation_1-rmse:0.25676\n",
      "[8]\tvalidation_0-rmse:0.24350\tvalidation_1-rmse:0.24402\n",
      "[9]\tvalidation_0-rmse:0.23138\tvalidation_1-rmse:0.23192\n",
      "[10]\tvalidation_0-rmse:0.21986\tvalidation_1-rmse:0.22042\n",
      "[11]\tvalidation_0-rmse:0.20892\tvalidation_1-rmse:0.20950\n",
      "[12]\tvalidation_0-rmse:0.19853\tvalidation_1-rmse:0.19913\n",
      "[13]\tvalidation_0-rmse:0.18866\tvalidation_1-rmse:0.18927\n",
      "[14]\tvalidation_0-rmse:0.17927\tvalidation_1-rmse:0.17991\n",
      "[15]\tvalidation_0-rmse:0.17036\tvalidation_1-rmse:0.17101\n",
      "[16]\tvalidation_0-rmse:0.16189\tvalidation_1-rmse:0.16257\n",
      "[17]\tvalidation_0-rmse:0.15384\tvalidation_1-rmse:0.15455\n",
      "[18]\tvalidation_0-rmse:0.14619\tvalidation_1-rmse:0.14693\n",
      "[19]\tvalidation_0-rmse:0.13893\tvalidation_1-rmse:0.13969\n",
      "[20]\tvalidation_0-rmse:0.13203\tvalidation_1-rmse:0.13282\n",
      "[21]\tvalidation_0-rmse:0.12547\tvalidation_1-rmse:0.12630\n",
      "[22]\tvalidation_0-rmse:0.11923\tvalidation_1-rmse:0.12010\n",
      "[23]\tvalidation_0-rmse:0.11331\tvalidation_1-rmse:0.11422\n",
      "[24]\tvalidation_0-rmse:0.10769\tvalidation_1-rmse:0.10863\n",
      "[25]\tvalidation_0-rmse:0.10234\tvalidation_1-rmse:0.10332\n",
      "[26]\tvalidation_0-rmse:0.09726\tvalidation_1-rmse:0.09828\n",
      "[27]\tvalidation_0-rmse:0.09244\tvalidation_1-rmse:0.09351\n",
      "[28]\tvalidation_0-rmse:0.08785\tvalidation_1-rmse:0.08896\n",
      "[29]\tvalidation_0-rmse:0.08349\tvalidation_1-rmse:0.08466\n",
      "[30]\tvalidation_0-rmse:0.07935\tvalidation_1-rmse:0.08057\n",
      "[31]\tvalidation_0-rmse:0.07542\tvalidation_1-rmse:0.07669\n",
      "[32]\tvalidation_0-rmse:0.07168\tvalidation_1-rmse:0.07301\n",
      "[33]\tvalidation_0-rmse:0.06813\tvalidation_1-rmse:0.06951\n",
      "[34]\tvalidation_0-rmse:0.06475\tvalidation_1-rmse:0.06620\n",
      "[35]\tvalidation_0-rmse:0.06155\tvalidation_1-rmse:0.06305\n",
      "[36]\tvalidation_0-rmse:0.05850\tvalidation_1-rmse:0.06007\n",
      "[37]\tvalidation_0-rmse:0.05560\tvalidation_1-rmse:0.05724\n",
      "[38]\tvalidation_0-rmse:0.05285\tvalidation_1-rmse:0.05456\n",
      "[39]\tvalidation_0-rmse:0.05024\tvalidation_1-rmse:0.05203\n",
      "[40]\tvalidation_0-rmse:0.04775\tvalidation_1-rmse:0.04962\n",
      "[41]\tvalidation_0-rmse:0.04539\tvalidation_1-rmse:0.04735\n",
      "[42]\tvalidation_0-rmse:0.04315\tvalidation_1-rmse:0.04519\n",
      "[43]\tvalidation_0-rmse:0.04102\tvalidation_1-rmse:0.04315\n",
      "[44]\tvalidation_0-rmse:0.03899\tvalidation_1-rmse:0.04122\n",
      "[45]\tvalidation_0-rmse:0.03707\tvalidation_1-rmse:0.03940\n",
      "[46]\tvalidation_0-rmse:0.03524\tvalidation_1-rmse:0.03768\n",
      "[47]\tvalidation_0-rmse:0.03350\tvalidation_1-rmse:0.03604\n",
      "[48]\tvalidation_0-rmse:0.03185\tvalidation_1-rmse:0.03451\n",
      "[49]\tvalidation_0-rmse:0.03028\tvalidation_1-rmse:0.03305\n",
      "[50]\tvalidation_0-rmse:0.02879\tvalidation_1-rmse:0.03168\n",
      "[51]\tvalidation_0-rmse:0.02737\tvalidation_1-rmse:0.03039\n",
      "[52]\tvalidation_0-rmse:0.02603\tvalidation_1-rmse:0.02917\n",
      "[53]\tvalidation_0-rmse:0.02475\tvalidation_1-rmse:0.02802\n",
      "[54]\tvalidation_0-rmse:0.02353\tvalidation_1-rmse:0.02694\n",
      "[55]\tvalidation_0-rmse:0.02237\tvalidation_1-rmse:0.02593\n",
      "[56]\tvalidation_0-rmse:0.02128\tvalidation_1-rmse:0.02497\n",
      "[57]\tvalidation_0-rmse:0.02023\tvalidation_1-rmse:0.02408\n",
      "[58]\tvalidation_0-rmse:0.01924\tvalidation_1-rmse:0.02324\n",
      "[59]\tvalidation_0-rmse:0.01830\tvalidation_1-rmse:0.02246\n",
      "[60]\tvalidation_0-rmse:0.01741\tvalidation_1-rmse:0.02173\n",
      "[61]\tvalidation_0-rmse:0.01655\tvalidation_1-rmse:0.02104\n",
      "[62]\tvalidation_0-rmse:0.01575\tvalidation_1-rmse:0.02040\n",
      "[63]\tvalidation_0-rmse:0.01498\tvalidation_1-rmse:0.01980\n",
      "[64]\tvalidation_0-rmse:0.01425\tvalidation_1-rmse:0.01925\n",
      "[65]\tvalidation_0-rmse:0.01355\tvalidation_1-rmse:0.01873\n",
      "[66]\tvalidation_0-rmse:0.01290\tvalidation_1-rmse:0.01825\n",
      "[67]\tvalidation_0-rmse:0.01227\tvalidation_1-rmse:0.01781\n",
      "[68]\tvalidation_0-rmse:0.01167\tvalidation_1-rmse:0.01739\n",
      "[69]\tvalidation_0-rmse:0.01111\tvalidation_1-rmse:0.01701\n",
      "[70]\tvalidation_0-rmse:0.01057\tvalidation_1-rmse:0.01666\n",
      "[71]\tvalidation_0-rmse:0.01006\tvalidation_1-rmse:0.01633\n",
      "[72]\tvalidation_0-rmse:0.00957\tvalidation_1-rmse:0.01603\n",
      "[73]\tvalidation_0-rmse:0.00911\tvalidation_1-rmse:0.01575\n",
      "[74]\tvalidation_0-rmse:0.00867\tvalidation_1-rmse:0.01549\n",
      "[75]\tvalidation_0-rmse:0.00826\tvalidation_1-rmse:0.01525\n",
      "[76]\tvalidation_0-rmse:0.00786\tvalidation_1-rmse:0.01504\n",
      "[77]\tvalidation_0-rmse:0.00748\tvalidation_1-rmse:0.01484\n",
      "[78]\tvalidation_0-rmse:0.00713\tvalidation_1-rmse:0.01465\n",
      "[79]\tvalidation_0-rmse:0.00679\tvalidation_1-rmse:0.01448\n",
      "[80]\tvalidation_0-rmse:0.00646\tvalidation_1-rmse:0.01433\n",
      "[81]\tvalidation_0-rmse:0.00615\tvalidation_1-rmse:0.01419\n",
      "[82]\tvalidation_0-rmse:0.00586\tvalidation_1-rmse:0.01406\n",
      "[83]\tvalidation_0-rmse:0.00559\tvalidation_1-rmse:0.01394\n",
      "[84]\tvalidation_0-rmse:0.00532\tvalidation_1-rmse:0.01383\n",
      "[85]\tvalidation_0-rmse:0.00507\tvalidation_1-rmse:0.01373\n",
      "[86]\tvalidation_0-rmse:0.00483\tvalidation_1-rmse:0.01364\n",
      "[87]\tvalidation_0-rmse:0.00460\tvalidation_1-rmse:0.01356\n",
      "[88]\tvalidation_0-rmse:0.00439\tvalidation_1-rmse:0.01348\n",
      "[89]\tvalidation_0-rmse:0.00418\tvalidation_1-rmse:0.01341\n",
      "[90]\tvalidation_0-rmse:0.00399\tvalidation_1-rmse:0.01335\n",
      "[91]\tvalidation_0-rmse:0.00380\tvalidation_1-rmse:0.01329\n",
      "[92]\tvalidation_0-rmse:0.00363\tvalidation_1-rmse:0.01324\n",
      "[93]\tvalidation_0-rmse:0.00346\tvalidation_1-rmse:0.01319\n",
      "[94]\tvalidation_0-rmse:0.00330\tvalidation_1-rmse:0.01314\n",
      "[95]\tvalidation_0-rmse:0.00315\tvalidation_1-rmse:0.01310\n",
      "[96]\tvalidation_0-rmse:0.00301\tvalidation_1-rmse:0.01306\n",
      "[97]\tvalidation_0-rmse:0.00287\tvalidation_1-rmse:0.01303\n",
      "[98]\tvalidation_0-rmse:0.00274\tvalidation_1-rmse:0.01299\n",
      "[99]\tvalidation_0-rmse:0.00262\tvalidation_1-rmse:0.01297\n",
      "[100]\tvalidation_0-rmse:0.00250\tvalidation_1-rmse:0.01294\n",
      "[101]\tvalidation_0-rmse:0.00239\tvalidation_1-rmse:0.01291\n",
      "[102]\tvalidation_0-rmse:0.00228\tvalidation_1-rmse:0.01289\n",
      "[103]\tvalidation_0-rmse:0.00218\tvalidation_1-rmse:0.01287\n",
      "[104]\tvalidation_0-rmse:0.00208\tvalidation_1-rmse:0.01285\n",
      "[105]\tvalidation_0-rmse:0.00199\tvalidation_1-rmse:0.01284\n",
      "[106]\tvalidation_0-rmse:0.00191\tvalidation_1-rmse:0.01282\n",
      "[107]\tvalidation_0-rmse:0.00182\tvalidation_1-rmse:0.01280\n",
      "[108]\tvalidation_0-rmse:0.00174\tvalidation_1-rmse:0.01279\n",
      "[109]\tvalidation_0-rmse:0.00167\tvalidation_1-rmse:0.01278\n",
      "[110]\tvalidation_0-rmse:0.00160\tvalidation_1-rmse:0.01277\n",
      "[111]\tvalidation_0-rmse:0.00153\tvalidation_1-rmse:0.01276\n",
      "[112]\tvalidation_0-rmse:0.00147\tvalidation_1-rmse:0.01275\n",
      "[113]\tvalidation_0-rmse:0.00140\tvalidation_1-rmse:0.01274\n",
      "[114]\tvalidation_0-rmse:0.00135\tvalidation_1-rmse:0.01273\n",
      "[115]\tvalidation_0-rmse:0.00129\tvalidation_1-rmse:0.01272\n",
      "[116]\tvalidation_0-rmse:0.00124\tvalidation_1-rmse:0.01271\n",
      "[117]\tvalidation_0-rmse:0.00119\tvalidation_1-rmse:0.01271\n",
      "[118]\tvalidation_0-rmse:0.00114\tvalidation_1-rmse:0.01270\n",
      "[119]\tvalidation_0-rmse:0.00109\tvalidation_1-rmse:0.01270\n",
      "[120]\tvalidation_0-rmse:0.00105\tvalidation_1-rmse:0.01269\n",
      "[121]\tvalidation_0-rmse:0.00101\tvalidation_1-rmse:0.01269\n",
      "[122]\tvalidation_0-rmse:0.00097\tvalidation_1-rmse:0.01268\n",
      "[123]\tvalidation_0-rmse:0.00093\tvalidation_1-rmse:0.01268\n",
      "[124]\tvalidation_0-rmse:0.00090\tvalidation_1-rmse:0.01267\n",
      "[125]\tvalidation_0-rmse:0.00087\tvalidation_1-rmse:0.01267\n",
      "[126]\tvalidation_0-rmse:0.00084\tvalidation_1-rmse:0.01267\n",
      "[127]\tvalidation_0-rmse:0.00081\tvalidation_1-rmse:0.01266\n",
      "[128]\tvalidation_0-rmse:0.00078\tvalidation_1-rmse:0.01266\n",
      "[129]\tvalidation_0-rmse:0.00075\tvalidation_1-rmse:0.01266\n",
      "[130]\tvalidation_0-rmse:0.00073\tvalidation_1-rmse:0.01265\n",
      "[131]\tvalidation_0-rmse:0.00071\tvalidation_1-rmse:0.01265\n",
      "[132]\tvalidation_0-rmse:0.00068\tvalidation_1-rmse:0.01265\n",
      "[133]\tvalidation_0-rmse:0.00066\tvalidation_1-rmse:0.01264\n",
      "[134]\tvalidation_0-rmse:0.00064\tvalidation_1-rmse:0.01264\n",
      "[135]\tvalidation_0-rmse:0.00062\tvalidation_1-rmse:0.01264\n",
      "[136]\tvalidation_0-rmse:0.00060\tvalidation_1-rmse:0.01264\n",
      "[137]\tvalidation_0-rmse:0.00059\tvalidation_1-rmse:0.01264\n",
      "[138]\tvalidation_0-rmse:0.00057\tvalidation_1-rmse:0.01263\n",
      "[139]\tvalidation_0-rmse:0.00056\tvalidation_1-rmse:0.01263\n",
      "[140]\tvalidation_0-rmse:0.00054\tvalidation_1-rmse:0.01263\n",
      "[141]\tvalidation_0-rmse:0.00053\tvalidation_1-rmse:0.01263\n",
      "[142]\tvalidation_0-rmse:0.00052\tvalidation_1-rmse:0.01263\n",
      "[143]\tvalidation_0-rmse:0.00050\tvalidation_1-rmse:0.01263\n",
      "[144]\tvalidation_0-rmse:0.00049\tvalidation_1-rmse:0.01262\n",
      "[145]\tvalidation_0-rmse:0.00048\tvalidation_1-rmse:0.01262\n",
      "[146]\tvalidation_0-rmse:0.00047\tvalidation_1-rmse:0.01262\n",
      "[147]\tvalidation_0-rmse:0.00046\tvalidation_1-rmse:0.01262\n",
      "[148]\tvalidation_0-rmse:0.00045\tvalidation_1-rmse:0.01262\n",
      "[149]\tvalidation_0-rmse:0.00044\tvalidation_1-rmse:0.01262\n",
      "[150]\tvalidation_0-rmse:0.00043\tvalidation_1-rmse:0.01262\n",
      "[151]\tvalidation_0-rmse:0.00043\tvalidation_1-rmse:0.01262\n",
      "[152]\tvalidation_0-rmse:0.00042\tvalidation_1-rmse:0.01262\n",
      "[153]\tvalidation_0-rmse:0.00041\tvalidation_1-rmse:0.01261\n",
      "[154]\tvalidation_0-rmse:0.00041\tvalidation_1-rmse:0.01261\n",
      "[155]\tvalidation_0-rmse:0.00040\tvalidation_1-rmse:0.01261\n",
      "[156]\tvalidation_0-rmse:0.00040\tvalidation_1-rmse:0.01261\n",
      "[157]\tvalidation_0-rmse:0.00039\tvalidation_1-rmse:0.01261\n",
      "[158]\tvalidation_0-rmse:0.00038\tvalidation_1-rmse:0.01261\n",
      "[159]\tvalidation_0-rmse:0.00038\tvalidation_1-rmse:0.01261\n",
      "[160]\tvalidation_0-rmse:0.00037\tvalidation_1-rmse:0.01261\n",
      "[161]\tvalidation_0-rmse:0.00037\tvalidation_1-rmse:0.01261\n",
      "[162]\tvalidation_0-rmse:0.00037\tvalidation_1-rmse:0.01261\n",
      "[163]\tvalidation_0-rmse:0.00036\tvalidation_1-rmse:0.01261\n",
      "[164]\tvalidation_0-rmse:0.00036\tvalidation_1-rmse:0.01261\n",
      "[165]\tvalidation_0-rmse:0.00035\tvalidation_1-rmse:0.01261\n",
      "[166]\tvalidation_0-rmse:0.00035\tvalidation_1-rmse:0.01261\n",
      "[167]\tvalidation_0-rmse:0.00035\tvalidation_1-rmse:0.01261\n",
      "[168]\tvalidation_0-rmse:0.00035\tvalidation_1-rmse:0.01261\n",
      "[169]\tvalidation_0-rmse:0.00034\tvalidation_1-rmse:0.01261\n",
      "[170]\tvalidation_0-rmse:0.00034\tvalidation_1-rmse:0.01260\n",
      "[171]\tvalidation_0-rmse:0.00034\tvalidation_1-rmse:0.01260\n",
      "[172]\tvalidation_0-rmse:0.00033\tvalidation_1-rmse:0.01260\n",
      "[173]\tvalidation_0-rmse:0.00033\tvalidation_1-rmse:0.01260\n",
      "[174]\tvalidation_0-rmse:0.00033\tvalidation_1-rmse:0.01260\n",
      "[175]\tvalidation_0-rmse:0.00033\tvalidation_1-rmse:0.01260\n",
      "[176]\tvalidation_0-rmse:0.00033\tvalidation_1-rmse:0.01260\n",
      "[177]\tvalidation_0-rmse:0.00032\tvalidation_1-rmse:0.01260\n",
      "[178]\tvalidation_0-rmse:0.00032\tvalidation_1-rmse:0.01260\n",
      "[179]\tvalidation_0-rmse:0.00032\tvalidation_1-rmse:0.01260\n",
      "[180]\tvalidation_0-rmse:0.00032\tvalidation_1-rmse:0.01260\n",
      "[181]\tvalidation_0-rmse:0.00032\tvalidation_1-rmse:0.01260\n",
      "[182]\tvalidation_0-rmse:0.00032\tvalidation_1-rmse:0.01260\n",
      "[183]\tvalidation_0-rmse:0.00032\tvalidation_1-rmse:0.01260\n",
      "[184]\tvalidation_0-rmse:0.00032\tvalidation_1-rmse:0.01260\n",
      "[185]\tvalidation_0-rmse:0.00031\tvalidation_1-rmse:0.01260\n",
      "[186]\tvalidation_0-rmse:0.00031\tvalidation_1-rmse:0.01260\n",
      "[187]\tvalidation_0-rmse:0.00031\tvalidation_1-rmse:0.01260\n",
      "[188]\tvalidation_0-rmse:0.00031\tvalidation_1-rmse:0.01260\n",
      "[189]\tvalidation_0-rmse:0.00031\tvalidation_1-rmse:0.01260\n",
      "[190]\tvalidation_0-rmse:0.00031\tvalidation_1-rmse:0.01260\n",
      "[191]\tvalidation_0-rmse:0.00031\tvalidation_1-rmse:0.01260\n",
      "[192]\tvalidation_0-rmse:0.00031\tvalidation_1-rmse:0.01260\n",
      "[193]\tvalidation_0-rmse:0.00031\tvalidation_1-rmse:0.01260\n",
      "[194]\tvalidation_0-rmse:0.00031\tvalidation_1-rmse:0.01260\n",
      "[195]\tvalidation_0-rmse:0.00030\tvalidation_1-rmse:0.01260\n",
      "[196]\tvalidation_0-rmse:0.00030\tvalidation_1-rmse:0.01260\n",
      "[197]\tvalidation_0-rmse:0.00030\tvalidation_1-rmse:0.01260\n",
      "[198]\tvalidation_0-rmse:0.00030\tvalidation_1-rmse:0.01260\n",
      "[199]\tvalidation_0-rmse:0.00030\tvalidation_1-rmse:0.01260\n",
      "[200]\tvalidation_0-rmse:0.00030\tvalidation_1-rmse:0.01260\n",
      "[201]\tvalidation_0-rmse:0.00030\tvalidation_1-rmse:0.01260\n",
      "[202]\tvalidation_0-rmse:0.00030\tvalidation_1-rmse:0.01260\n",
      "[203]\tvalidation_0-rmse:0.00030\tvalidation_1-rmse:0.01260\n",
      "[204]\tvalidation_0-rmse:0.00030\tvalidation_1-rmse:0.01260\n",
      "[205]\tvalidation_0-rmse:0.00030\tvalidation_1-rmse:0.01260\n",
      "[206]\tvalidation_0-rmse:0.00030\tvalidation_1-rmse:0.01260\n",
      "[207]\tvalidation_0-rmse:0.00030\tvalidation_1-rmse:0.01260\n",
      "[208]\tvalidation_0-rmse:0.00030\tvalidation_1-rmse:0.01260\n",
      "[209]\tvalidation_0-rmse:0.00030\tvalidation_1-rmse:0.01260\n",
      "[210]\tvalidation_0-rmse:0.00030\tvalidation_1-rmse:0.01260\n",
      "[211]\tvalidation_0-rmse:0.00030\tvalidation_1-rmse:0.01260\n",
      "[212]\tvalidation_0-rmse:0.00030\tvalidation_1-rmse:0.01260\n",
      "[213]\tvalidation_0-rmse:0.00030\tvalidation_1-rmse:0.01260\n",
      "[214]\tvalidation_0-rmse:0.00030\tvalidation_1-rmse:0.01260\n",
      "[215]\tvalidation_0-rmse:0.00030\tvalidation_1-rmse:0.01260\n",
      "[216]\tvalidation_0-rmse:0.00030\tvalidation_1-rmse:0.01260\n",
      "[217]\tvalidation_0-rmse:0.00030\tvalidation_1-rmse:0.01260\n",
      "[218]\tvalidation_0-rmse:0.00030\tvalidation_1-rmse:0.01260\n",
      "[219]\tvalidation_0-rmse:0.00030\tvalidation_1-rmse:0.01260\n",
      "[220]\tvalidation_0-rmse:0.00030\tvalidation_1-rmse:0.01260\n",
      "[221]\tvalidation_0-rmse:0.00030\tvalidation_1-rmse:0.01260\n",
      "[222]\tvalidation_0-rmse:0.00030\tvalidation_1-rmse:0.01260\n",
      "[223]\tvalidation_0-rmse:0.00030\tvalidation_1-rmse:0.01260\n",
      "[224]\tvalidation_0-rmse:0.00030\tvalidation_1-rmse:0.01260\n",
      "[225]\tvalidation_0-rmse:0.00030\tvalidation_1-rmse:0.01260\n",
      "[226]\tvalidation_0-rmse:0.00030\tvalidation_1-rmse:0.01260\n",
      "[227]\tvalidation_0-rmse:0.00030\tvalidation_1-rmse:0.01260\n",
      "[228]\tvalidation_0-rmse:0.00030\tvalidation_1-rmse:0.01260\n",
      "[229]\tvalidation_0-rmse:0.00030\tvalidation_1-rmse:0.01260\n",
      "[230]\tvalidation_0-rmse:0.00030\tvalidation_1-rmse:0.01260\n",
      "[231]\tvalidation_0-rmse:0.00030\tvalidation_1-rmse:0.01260\n",
      "[232]\tvalidation_0-rmse:0.00030\tvalidation_1-rmse:0.01260\n",
      "[233]\tvalidation_0-rmse:0.00030\tvalidation_1-rmse:0.01260\n",
      "[234]\tvalidation_0-rmse:0.00030\tvalidation_1-rmse:0.01260\n",
      "[235]\tvalidation_0-rmse:0.00030\tvalidation_1-rmse:0.01260\n",
      "[236]\tvalidation_0-rmse:0.00030\tvalidation_1-rmse:0.01260\n",
      "[237]\tvalidation_0-rmse:0.00030\tvalidation_1-rmse:0.01260\n",
      "[238]\tvalidation_0-rmse:0.00030\tvalidation_1-rmse:0.01260\n",
      "[239]\tvalidation_0-rmse:0.00030\tvalidation_1-rmse:0.01260\n",
      "[240]\tvalidation_0-rmse:0.00030\tvalidation_1-rmse:0.01260\n",
      "[241]\tvalidation_0-rmse:0.00030\tvalidation_1-rmse:0.01260\n",
      "[242]\tvalidation_0-rmse:0.00030\tvalidation_1-rmse:0.01260\n",
      "[243]\tvalidation_0-rmse:0.00030\tvalidation_1-rmse:0.01260\n",
      "[244]\tvalidation_0-rmse:0.00030\tvalidation_1-rmse:0.01260\n",
      "[245]\tvalidation_0-rmse:0.00030\tvalidation_1-rmse:0.01260\n",
      "[246]\tvalidation_0-rmse:0.00030\tvalidation_1-rmse:0.01260\n",
      "[247]\tvalidation_0-rmse:0.00030\tvalidation_1-rmse:0.01260\n",
      "[248]\tvalidation_0-rmse:0.00030\tvalidation_1-rmse:0.01260\n",
      "[249]\tvalidation_0-rmse:0.00030\tvalidation_1-rmse:0.01260\n"
     ]
    }
   ],
   "source": [
    "model = xgb.XGBRegressor(learning_rate=0.05,max_depth=20,n_estimators=250,eval_metric=\"rmse\")\n",
    "# model fit \n",
    "# Use normalized data!!!\n",
    "model.fit(X_train_st, y_train_st, eval_set=[(X_train_st, y_train_st),(x_val_st,y_val_st)],early_stopping_rounds=10)\n",
    "\n",
    "y_pred = model.predict(x_test_st) # prediction"
   ]
  },
  {
   "cell_type": "code",
   "execution_count": 22,
   "metadata": {},
   "outputs": [],
   "source": [
    "y_pred_df = pd.DataFrame(data=y_pred, columns=y_test.columns)"
   ]
  },
  {
   "cell_type": "markdown",
   "metadata": {},
   "source": [
    "### **Saving the model and scalers**"
   ]
  },
  {
   "cell_type": "code",
   "execution_count": 23,
   "metadata": {},
   "outputs": [
    {
     "data": {
      "text/plain": [
       "['scaler_out_richmond.joblib']"
      ]
     },
     "execution_count": 23,
     "metadata": {},
     "output_type": "execute_result"
    }
   ],
   "source": [
    "# save the model to a file\n",
    "joblib.dump(model, 'xgb_model_richmond.joblib')\n",
    "joblib.dump(scaler_in2,'scaler_in_richmond.joblib')\n",
    "joblib.dump(scaler_out2, 'scaler_out_richmond.joblib')\n",
    "# the First parameter is the name of the model and the second parameter is the name of the file\n",
    "# with which we want to save it\n",
    "# now the model named 'reg' will be saved as 'xgb_model.joblib' in the current\n",
    "# directory."
   ]
  },
  {
   "cell_type": "markdown",
   "metadata": {},
   "source": [
    "#### Un-normalize"
   ]
  },
  {
   "cell_type": "code",
   "execution_count": 24,
   "metadata": {},
   "outputs": [],
   "source": [
    "columns_to_unnormalize2 = columns_to_normalize2\n",
    "inverse_pred = pd.DataFrame(scaler_out2.inverse_transform(y_pred_df[columns_to_unnormalize2]), columns=columns_to_unnormalize2)"
   ]
  },
  {
   "cell_type": "markdown",
   "metadata": {},
   "source": [
    "### Metrics on Train"
   ]
  },
  {
   "cell_type": "code",
   "execution_count": 25,
   "metadata": {},
   "outputs": [
    {
     "name": "stdout",
     "output_type": "stream",
     "text": [
      "                    RMSE           MSE        R2\n",
      "Δtank_0     7.477071e-07  5.590660e-13  0.999868\n",
      "Δtank_1     5.590112e-06  3.124936e-11  0.992029\n",
      "Δtank_2     8.452717e-07  7.144842e-13  0.999704\n",
      "Δtank_3     2.981960e-06  8.892085e-12  0.999124\n",
      "Δtank_4     1.143629e-06  1.307887e-12  0.996136\n",
      "Δtank_5     2.669101e-06  7.124098e-12  0.998563\n",
      "pumps_kw_0  7.203345e-02  5.188818e-03  0.992228\n",
      "pumps_kw_1  1.999683e-02  3.998732e-04  0.999999\n",
      "pumps_kw_2  1.550761e-02  2.404859e-04  0.999976\n",
      "pumps_kw_3  7.012095e-03  4.916948e-05  0.999999\n",
      "pumps_kw_4  5.034066e-03  2.534182e-05  1.000000\n",
      "pumps_kw_5  2.276228e-01  5.181213e-02  0.999325\n",
      "pumps_kw_6  2.442420e-02  5.965414e-04  0.999999\n"
     ]
    }
   ],
   "source": [
    "rmse_dict = {}\n",
    "\n",
    "for column in y_test.columns:\n",
    "    rmse = np.sqrt(mean_squared_error(y_test[column],inverse_pred[column]))\n",
    "    rmse_dict[column] = rmse\n",
    "\n",
    "mse_dict = {}\n",
    "for column in y_test.columns:\n",
    "    mse = mean_squared_error(y_test[column],inverse_pred[column])\n",
    "    mse_dict[column] = mse\n",
    "    \n",
    "r2_dict = {}\n",
    "for column in y_test.columns:\n",
    "    r2 = r2_score(y_test[column],inverse_pred[column])\n",
    "    r2_dict[column] = r2\n",
    "    \n",
    "    \n",
    "    \n",
    "metrics_xgboost = pd.DataFrame({'RMSE': rmse_dict, 'MSE': mse_dict, 'R2': r2_dict})\n",
    "\n",
    "print(metrics_xgboost)\n"
   ]
  },
  {
   "cell_type": "markdown",
   "metadata": {},
   "source": [
    "### Plots"
   ]
  },
  {
   "cell_type": "code",
   "execution_count": 26,
   "metadata": {},
   "outputs": [],
   "source": [
    "imagens_tese = r'C:\\Users\\LENOVO\\OneDrive - Universidade de Aveiro\\universidade\\Mestrado\\2º Ano\\Tese\\Tese_UA\\Imagens'"
   ]
  },
  {
   "cell_type": "code",
   "execution_count": 27,
   "metadata": {},
   "outputs": [],
   "source": [
    "model=joblib.load('xgb_model_richmond.joblib')\n",
    "scaler_in2= joblib.load('scaler_in_richmond.joblib')\n",
    "scaler_out2=joblib.load('scaler_out_richmond.joblib')"
   ]
  },
  {
   "cell_type": "code",
   "execution_count": 29,
   "metadata": {},
   "outputs": [
    {
     "name": "stdout",
     "output_type": "stream",
     "text": [
      "dict_keys(['validation_0', 'validation_1'])\n"
     ]
    },
    {
     "data": {
      "image/png": "[encoded data removed]",
      "text/plain": [
       "<Figure size 500x300 with 1 Axes>"
      ]
     },
     "metadata": {},
     "output_type": "display_data"
    }
   ],
   "source": [
    "print(model.evals_result_.keys())\n",
    "\n",
    "with plt.style.context('science'):    \n",
    "    plt.plot(model.evals_result_['validation_0']['rmse'], label='Training RMSE')\n",
    "    plt.plot(model.evals_result_['validation_1']['rmse'], label='Validation RMSE')\n",
    "    plt.xlabel('Number of Rounds')\n",
    "    plt.ylabel('RMSE')\n",
    "    #plt.title('XGBoost Learning Curve - Richmond')\n",
    "    plt.legend()\n",
    "    plt.gcf().set_size_inches(5,3)\n",
    "    plt.savefig(os.path.join(imagens_tese,\"rich_learning_curve.pdf\"), dpi=300)\n",
    "    plt.show()"
   ]
  },
  {
   "cell_type": "code",
   "execution_count": 29,
   "metadata": {},
   "outputs": [
    {
     "data": {
      "text/plain": [
       "<function matplotlib.pyplot.show(close=None, block=None)>"
      ]
     },
     "execution_count": 29,
     "metadata": {},
     "output_type": "execute_result"
    }
   ],
   "source": [
    "plt.scatter(y_test['Δtank_5'],inverse_pred['Δtank_5'])\n",
    "plt.xlabel('True value')\n",
    "plt.ylabel('Predicted value')\n",
    "plt.title ('Δtank_5')\n",
    "plt.show"
   ]
  },
  {
   "cell_type": "markdown",
   "metadata": {},
   "source": [
    "## Cross Testing"
   ]
  },
  {
   "cell_type": "code",
   "execution_count": 30,
   "metadata": {},
   "outputs": [
    {
     "name": "stderr",
     "output_type": "stream",
     "text": [
      "C:\\Users\\LENOVO\\AppData\\Local\\Temp\\ipykernel_12932\\54031661.py:2: SettingWithCopyWarning: \n",
      "A value is trying to be set on a copy of a slice from a DataFrame\n",
      "\n",
      "See the caveats in the documentation: https://pandas.pydata.org/pandas-docs/stable/user_guide/indexing.html#returning-a-view-versus-a-copy\n",
      "  data_manual['t_step'][0]=300\n"
     ]
    },
    {
     "data": {
      "text/html": [
       "<div>\n",
       "<style scoped>\n",
       "    .dataframe tbody tr th:only-of-type {\n",
       "        vertical-align: middle;\n",
       "    }\n",
       "\n",
       "    .dataframe tbody tr th {\n",
       "        vertical-align: top;\n",
       "    }\n",
       "\n",
       "    .dataframe thead th {\n",
       "        text-align: right;\n",
       "    }\n",
       "</style>\n",
       "<table border=\"1\" class=\"dataframe\">\n",
       "  <thead>\n",
       "    <tr style=\"text-align: right;\">\n",
       "      <th></th>\n",
       "      <th>time</th>\n",
       "      <th>t_step</th>\n",
       "      <th>tank_0</th>\n",
       "      <th>tank_1</th>\n",
       "      <th>tank_2</th>\n",
       "      <th>tank_3</th>\n",
       "      <th>tank_4</th>\n",
       "      <th>tank_5</th>\n",
       "      <th>tank_final_0</th>\n",
       "      <th>tank_final_1</th>\n",
       "      <th>...</th>\n",
       "      <th>junction_2</th>\n",
       "      <th>junction_3</th>\n",
       "      <th>junction_10</th>\n",
       "      <th>junction_13</th>\n",
       "      <th>junction_16</th>\n",
       "      <th>junction_24</th>\n",
       "      <th>junction_25</th>\n",
       "      <th>junction_27</th>\n",
       "      <th>junction_28</th>\n",
       "      <th>junction_34</th>\n",
       "    </tr>\n",
       "  </thead>\n",
       "  <tbody>\n",
       "    <tr>\n",
       "      <th>0</th>\n",
       "      <td>0</td>\n",
       "      <td>300</td>\n",
       "      <td>1.8400</td>\n",
       "      <td>3.1200</td>\n",
       "      <td>1.9400</td>\n",
       "      <td>3.3700</td>\n",
       "      <td>2.4700</td>\n",
       "      <td>1.9600</td>\n",
       "      <td>1.8687</td>\n",
       "      <td>3.1200</td>\n",
       "      <td>...</td>\n",
       "      <td>6.248</td>\n",
       "      <td>4.048</td>\n",
       "      <td>12.43</td>\n",
       "      <td>2.343</td>\n",
       "      <td>4.081</td>\n",
       "      <td>1.1</td>\n",
       "      <td>0.121</td>\n",
       "      <td>1.562</td>\n",
       "      <td>0.11</td>\n",
       "      <td>17.875</td>\n",
       "    </tr>\n",
       "    <tr>\n",
       "      <th>1</th>\n",
       "      <td>300</td>\n",
       "      <td>300</td>\n",
       "      <td>1.8687</td>\n",
       "      <td>3.1200</td>\n",
       "      <td>1.9426</td>\n",
       "      <td>3.3937</td>\n",
       "      <td>2.4710</td>\n",
       "      <td>1.9901</td>\n",
       "      <td>1.8974</td>\n",
       "      <td>3.1200</td>\n",
       "      <td>...</td>\n",
       "      <td>6.248</td>\n",
       "      <td>4.048</td>\n",
       "      <td>12.43</td>\n",
       "      <td>2.343</td>\n",
       "      <td>4.081</td>\n",
       "      <td>1.1</td>\n",
       "      <td>0.121</td>\n",
       "      <td>1.562</td>\n",
       "      <td>0.11</td>\n",
       "      <td>17.875</td>\n",
       "    </tr>\n",
       "    <tr>\n",
       "      <th>2</th>\n",
       "      <td>600</td>\n",
       "      <td>300</td>\n",
       "      <td>1.8974</td>\n",
       "      <td>3.1200</td>\n",
       "      <td>1.9452</td>\n",
       "      <td>3.4172</td>\n",
       "      <td>2.4719</td>\n",
       "      <td>2.0200</td>\n",
       "      <td>1.9261</td>\n",
       "      <td>3.1201</td>\n",
       "      <td>...</td>\n",
       "      <td>6.248</td>\n",
       "      <td>4.048</td>\n",
       "      <td>12.43</td>\n",
       "      <td>2.343</td>\n",
       "      <td>4.081</td>\n",
       "      <td>1.1</td>\n",
       "      <td>0.121</td>\n",
       "      <td>1.562</td>\n",
       "      <td>0.11</td>\n",
       "      <td>17.875</td>\n",
       "    </tr>\n",
       "    <tr>\n",
       "      <th>3</th>\n",
       "      <td>900</td>\n",
       "      <td>300</td>\n",
       "      <td>1.9261</td>\n",
       "      <td>3.1201</td>\n",
       "      <td>1.9478</td>\n",
       "      <td>3.4406</td>\n",
       "      <td>2.4729</td>\n",
       "      <td>2.0498</td>\n",
       "      <td>1.9547</td>\n",
       "      <td>3.1202</td>\n",
       "      <td>...</td>\n",
       "      <td>6.248</td>\n",
       "      <td>4.048</td>\n",
       "      <td>12.43</td>\n",
       "      <td>2.343</td>\n",
       "      <td>4.081</td>\n",
       "      <td>1.1</td>\n",
       "      <td>0.121</td>\n",
       "      <td>1.562</td>\n",
       "      <td>0.11</td>\n",
       "      <td>17.875</td>\n",
       "    </tr>\n",
       "    <tr>\n",
       "      <th>4</th>\n",
       "      <td>1200</td>\n",
       "      <td>300</td>\n",
       "      <td>1.9547</td>\n",
       "      <td>3.1202</td>\n",
       "      <td>1.9505</td>\n",
       "      <td>3.4640</td>\n",
       "      <td>2.4740</td>\n",
       "      <td>2.0795</td>\n",
       "      <td>1.9834</td>\n",
       "      <td>3.1204</td>\n",
       "      <td>...</td>\n",
       "      <td>6.248</td>\n",
       "      <td>4.048</td>\n",
       "      <td>12.43</td>\n",
       "      <td>2.343</td>\n",
       "      <td>4.081</td>\n",
       "      <td>1.1</td>\n",
       "      <td>0.121</td>\n",
       "      <td>1.562</td>\n",
       "      <td>0.11</td>\n",
       "      <td>17.875</td>\n",
       "    </tr>\n",
       "  </tbody>\n",
       "</table>\n",
       "<p>5 rows × 38 columns</p>\n",
       "</div>"
      ],
      "text/plain": [
       "   time  t_step  tank_0  tank_1  tank_2  tank_3  tank_4  tank_5  tank_final_0  \\\n",
       "0     0     300  1.8400  3.1200  1.9400  3.3700  2.4700  1.9600        1.8687   \n",
       "1   300     300  1.8687  3.1200  1.9426  3.3937  2.4710  1.9901        1.8974   \n",
       "2   600     300  1.8974  3.1200  1.9452  3.4172  2.4719  2.0200        1.9261   \n",
       "3   900     300  1.9261  3.1201  1.9478  3.4406  2.4729  2.0498        1.9547   \n",
       "4  1200     300  1.9547  3.1202  1.9505  3.4640  2.4740  2.0795        1.9834   \n",
       "\n",
       "   tank_final_1  ...  junction_2  junction_3  junction_10  junction_13  \\\n",
       "0        3.1200  ...       6.248       4.048        12.43        2.343   \n",
       "1        3.1200  ...       6.248       4.048        12.43        2.343   \n",
       "2        3.1201  ...       6.248       4.048        12.43        2.343   \n",
       "3        3.1202  ...       6.248       4.048        12.43        2.343   \n",
       "4        3.1204  ...       6.248       4.048        12.43        2.343   \n",
       "\n",
       "   junction_16  junction_24  junction_25  junction_27  junction_28  \\\n",
       "0        4.081          1.1        0.121        1.562         0.11   \n",
       "1        4.081          1.1        0.121        1.562         0.11   \n",
       "2        4.081          1.1        0.121        1.562         0.11   \n",
       "3        4.081          1.1        0.121        1.562         0.11   \n",
       "4        4.081          1.1        0.121        1.562         0.11   \n",
       "\n",
       "   junction_34  \n",
       "0       17.875  \n",
       "1       17.875  \n",
       "2       17.875  \n",
       "3       17.875  \n",
       "4       17.875  \n",
       "\n",
       "[5 rows x 38 columns]"
      ]
     },
     "execution_count": 30,
     "metadata": {},
     "output_type": "execute_result"
    }
   ],
   "source": [
    "data_manual=pd.read_csv(r'C:\\Users\\LENOVO\\OneDrive - Universidade de Aveiro\\universidade\\Mestrado\\2º Ano\\Tese\\Códigos\\Test_epanet\\Samples\\Richmond\\rich_cross-test_data.csv', index_col=False)\n",
    "data_manual['t_step'][0]=300\n",
    "data_manual = data_manual.drop(data_manual.index[-1])\n",
    "data_manual.head()"
   ]
  },
  {
   "cell_type": "code",
   "execution_count": 31,
   "metadata": {},
   "outputs": [
    {
     "data": {
      "text/plain": [
       "time            172500.000000\n",
       "t_step             300.000000\n",
       "tank_0               6.653100\n",
       "tank_1               3.123000\n",
       "tank_2               1.971300\n",
       "tank_3               4.368900\n",
       "tank_4               5.577100\n",
       "tank_5               7.749300\n",
       "tank_final_0         6.653100\n",
       "tank_final_1         3.123000\n",
       "tank_final_2         1.971300\n",
       "tank_final_3         4.368900\n",
       "tank_final_4         5.588700\n",
       "tank_final_5         7.749300\n",
       "pumps_0              1.000000\n",
       "pumps_1              1.000000\n",
       "pumps_2              1.000000\n",
       "pumps_3              1.000000\n",
       "pumps_4              1.000000\n",
       "pumps_5              1.000000\n",
       "pumps_6              1.000000\n",
       "pumps_kw_0           1.610000\n",
       "pumps_kw_1          51.100000\n",
       "pumps_kw_2           6.620000\n",
       "pumps_kw_3          11.860000\n",
       "pumps_kw_4          22.060000\n",
       "pumps_kw_5          18.520000\n",
       "pumps_kw_6          51.100000\n",
       "junction_2           9.144800\n",
       "junction_3           5.924800\n",
       "junction_10         18.193001\n",
       "junction_13          3.429300\n",
       "junction_16          5.973100\n",
       "junction_24          1.610000\n",
       "junction_25          0.177100\n",
       "junction_27          2.286200\n",
       "junction_28          0.161000\n",
       "junction_34         26.162500\n",
       "dtype: float64"
      ]
     },
     "execution_count": 31,
     "metadata": {},
     "output_type": "execute_result"
    }
   ],
   "source": [
    "data_manual.max()"
   ]
  },
  {
   "cell_type": "markdown",
   "metadata": {},
   "source": [
    "### manual_output"
   ]
  },
  {
   "cell_type": "code",
   "execution_count": 32,
   "metadata": {},
   "outputs": [],
   "source": [
    "# Tank variation\n",
    "manual_out =pd.DataFrame() \n",
    "for k in range(0,6):\n",
    "    manual_out[\"Δtank_\"+str(k)] = ((data_manual[\"tank_final_\"+str(k)]-data_manual[\"tank_\"+str(k)])/data_manual.t_step) #m/s\n",
    "\n",
    "# Pump Power\n",
    "for f in range (7):\n",
    "    manual_out['pumps_kw_'+str(f)] = data_manual.filter(['pumps_kw_'+str(f)],axis=1)"
   ]
  },
  {
   "cell_type": "code",
   "execution_count": 33,
   "metadata": {},
   "outputs": [
    {
     "name": "stdout",
     "output_type": "stream",
     "text": [
      "Index(['time', 't_step', 'tank_0', 'tank_1', 'tank_2', 'tank_3', 'tank_4',\n",
      "       'tank_5', 'tank_final_0', 'tank_final_1', 'tank_final_2',\n",
      "       'tank_final_3', 'tank_final_4', 'tank_final_5', 'pumps_0', 'pumps_1',\n",
      "       'pumps_2', 'pumps_3', 'pumps_4', 'pumps_5', 'pumps_6', 'junction_2',\n",
      "       'junction_3', 'junction_10', 'junction_13', 'junction_16',\n",
      "       'junction_24', 'junction_25', 'junction_27', 'junction_28',\n",
      "       'junction_34'],\n",
      "      dtype='object')\n"
     ]
    }
   ],
   "source": [
    "columns_to_drop2 = [column for column in data_manual.columns if column.startswith('pumps_kw_')]\n",
    "# Drop the specified columns from the DataFrame\n",
    "data_manual= data_manual.drop(columns=columns_to_drop2)\n",
    "# Print the DataFrame after dropping the columns\n",
    "print(data_manual.columns)\n"
   ]
  },
  {
   "cell_type": "markdown",
   "metadata": {},
   "source": [
    "Alterar nome tank_final_... para final_tank_..."
   ]
  },
  {
   "cell_type": "code",
   "execution_count": 34,
   "metadata": {},
   "outputs": [
    {
     "name": "stdout",
     "output_type": "stream",
     "text": [
      "Index(['time', 't_step', 'tank_0', 'tank_1', 'tank_2', 'tank_3', 'tank_4',\n",
      "       'tank_5', 'final_tank_0', 'final_tank_1', 'final_tank_2',\n",
      "       'final_tank_3', 'final_tank_4', 'final_tank_5', 'pumps_0', 'pumps_1',\n",
      "       'pumps_2', 'pumps_3', 'pumps_4', 'pumps_5', 'pumps_6', 'junction_2',\n",
      "       'junction_3', 'junction_10', 'junction_13', 'junction_16',\n",
      "       'junction_24', 'junction_25', 'junction_27', 'junction_28',\n",
      "       'junction_34'],\n",
      "      dtype='object')\n"
     ]
    }
   ],
   "source": [
    "columns_to_rename2 = [column for column in data_manual.columns if column.startswith('tank_final_')]\n",
    "# Rename the columns\n",
    "renamed_columns2 = {column: column.replace('tank_final_', 'final_tank_') for column in columns_to_rename2}\n",
    "data_manual = data_manual.rename(columns=renamed_columns2)\n",
    "print(data_manual.columns)"
   ]
  },
  {
   "cell_type": "markdown",
   "metadata": {},
   "source": [
    "Organizar dataset"
   ]
  },
  {
   "cell_type": "code",
   "execution_count": 35,
   "metadata": {},
   "outputs": [
    {
     "data": {
      "text/plain": [
       "Index(['time', 't_step', 'tank_0', 'tank_1', 'tank_2', 'tank_3', 'tank_4',\n",
       "       'tank_5', 'final_tank_0', 'final_tank_1', 'final_tank_2',\n",
       "       'final_tank_3', 'final_tank_4', 'final_tank_5', 'pumps_0', 'pumps_1',\n",
       "       'pumps_2', 'pumps_3', 'pumps_4', 'pumps_5', 'pumps_6', 'junction_2',\n",
       "       'junction_3', 'junction_10', 'junction_13', 'junction_16',\n",
       "       'junction_24', 'junction_25', 'junction_27', 'junction_28',\n",
       "       'junction_34'],\n",
       "      dtype='object')"
      ]
     },
     "execution_count": 35,
     "metadata": {},
     "output_type": "execute_result"
    }
   ],
   "source": [
    "data_manual = data_manual.reindex(columns=['time', 't_step', 'tank_0', 'tank_1', 'tank_2', 'tank_3', 'tank_4',\n",
    "       'tank_5', 'final_tank_0', 'final_tank_1', 'final_tank_2',\n",
    "       'final_tank_3', 'final_tank_4', 'final_tank_5', 'pumps_0', 'pumps_1',\n",
    "       'pumps_2', 'pumps_3', 'pumps_4', 'pumps_5', 'pumps_6', 'junction_2',\n",
    "       'junction_3', 'junction_10', 'junction_13', 'junction_16',\n",
    "       'junction_24', 'junction_25', 'junction_27', 'junction_28',\n",
    "       'junction_34'])\n",
    "data_manual.columns"
   ]
  },
  {
   "cell_type": "code",
   "execution_count": 36,
   "metadata": {},
   "outputs": [
    {
     "data": {
      "text/html": [
       "<div>\n",
       "<style scoped>\n",
       "    .dataframe tbody tr th:only-of-type {\n",
       "        vertical-align: middle;\n",
       "    }\n",
       "\n",
       "    .dataframe tbody tr th {\n",
       "        vertical-align: top;\n",
       "    }\n",
       "\n",
       "    .dataframe thead th {\n",
       "        text-align: right;\n",
       "    }\n",
       "</style>\n",
       "<table border=\"1\" class=\"dataframe\">\n",
       "  <thead>\n",
       "    <tr style=\"text-align: right;\">\n",
       "      <th></th>\n",
       "      <th>Δtank_0</th>\n",
       "      <th>Δtank_1</th>\n",
       "      <th>Δtank_2</th>\n",
       "      <th>Δtank_3</th>\n",
       "      <th>Δtank_4</th>\n",
       "      <th>Δtank_5</th>\n",
       "      <th>pumps_kw_0</th>\n",
       "      <th>pumps_kw_1</th>\n",
       "      <th>pumps_kw_2</th>\n",
       "      <th>pumps_kw_3</th>\n",
       "      <th>pumps_kw_4</th>\n",
       "      <th>pumps_kw_5</th>\n",
       "      <th>pumps_kw_6</th>\n",
       "    </tr>\n",
       "  </thead>\n",
       "  <tbody>\n",
       "    <tr>\n",
       "      <th>0</th>\n",
       "      <td>0.000096</td>\n",
       "      <td>0.000000e+00</td>\n",
       "      <td>0.000009</td>\n",
       "      <td>0.000079</td>\n",
       "      <td>0.000003</td>\n",
       "      <td>0.000100</td>\n",
       "      <td>1.61</td>\n",
       "      <td>50.4</td>\n",
       "      <td>6.38</td>\n",
       "      <td>11.86</td>\n",
       "      <td>22.06</td>\n",
       "      <td>17.95</td>\n",
       "      <td>50.4</td>\n",
       "    </tr>\n",
       "    <tr>\n",
       "      <th>1</th>\n",
       "      <td>0.000096</td>\n",
       "      <td>0.000000e+00</td>\n",
       "      <td>0.000009</td>\n",
       "      <td>0.000078</td>\n",
       "      <td>0.000003</td>\n",
       "      <td>0.000100</td>\n",
       "      <td>1.61</td>\n",
       "      <td>50.4</td>\n",
       "      <td>6.37</td>\n",
       "      <td>11.86</td>\n",
       "      <td>22.06</td>\n",
       "      <td>17.93</td>\n",
       "      <td>50.4</td>\n",
       "    </tr>\n",
       "    <tr>\n",
       "      <th>2</th>\n",
       "      <td>0.000096</td>\n",
       "      <td>3.333333e-07</td>\n",
       "      <td>0.000009</td>\n",
       "      <td>0.000078</td>\n",
       "      <td>0.000003</td>\n",
       "      <td>0.000099</td>\n",
       "      <td>1.61</td>\n",
       "      <td>50.4</td>\n",
       "      <td>6.37</td>\n",
       "      <td>11.86</td>\n",
       "      <td>22.06</td>\n",
       "      <td>17.91</td>\n",
       "      <td>50.4</td>\n",
       "    </tr>\n",
       "    <tr>\n",
       "      <th>3</th>\n",
       "      <td>0.000095</td>\n",
       "      <td>3.333333e-07</td>\n",
       "      <td>0.000009</td>\n",
       "      <td>0.000078</td>\n",
       "      <td>0.000004</td>\n",
       "      <td>0.000099</td>\n",
       "      <td>1.61</td>\n",
       "      <td>50.4</td>\n",
       "      <td>6.37</td>\n",
       "      <td>11.86</td>\n",
       "      <td>22.06</td>\n",
       "      <td>17.89</td>\n",
       "      <td>50.4</td>\n",
       "    </tr>\n",
       "    <tr>\n",
       "      <th>4</th>\n",
       "      <td>0.000096</td>\n",
       "      <td>6.666667e-07</td>\n",
       "      <td>0.000009</td>\n",
       "      <td>0.000077</td>\n",
       "      <td>0.000003</td>\n",
       "      <td>0.000098</td>\n",
       "      <td>1.61</td>\n",
       "      <td>50.4</td>\n",
       "      <td>6.37</td>\n",
       "      <td>11.86</td>\n",
       "      <td>22.06</td>\n",
       "      <td>17.87</td>\n",
       "      <td>50.4</td>\n",
       "    </tr>\n",
       "  </tbody>\n",
       "</table>\n",
       "</div>"
      ],
      "text/plain": [
       "    Δtank_0       Δtank_1   Δtank_2   Δtank_3   Δtank_4   Δtank_5  pumps_kw_0  \\\n",
       "0  0.000096  0.000000e+00  0.000009  0.000079  0.000003  0.000100        1.61   \n",
       "1  0.000096  0.000000e+00  0.000009  0.000078  0.000003  0.000100        1.61   \n",
       "2  0.000096  3.333333e-07  0.000009  0.000078  0.000003  0.000099        1.61   \n",
       "3  0.000095  3.333333e-07  0.000009  0.000078  0.000004  0.000099        1.61   \n",
       "4  0.000096  6.666667e-07  0.000009  0.000077  0.000003  0.000098        1.61   \n",
       "\n",
       "   pumps_kw_1  pumps_kw_2  pumps_kw_3  pumps_kw_4  pumps_kw_5  pumps_kw_6  \n",
       "0        50.4        6.38       11.86       22.06       17.95        50.4  \n",
       "1        50.4        6.37       11.86       22.06       17.93        50.4  \n",
       "2        50.4        6.37       11.86       22.06       17.91        50.4  \n",
       "3        50.4        6.37       11.86       22.06       17.89        50.4  \n",
       "4        50.4        6.37       11.86       22.06       17.87        50.4  "
      ]
     },
     "execution_count": 36,
     "metadata": {},
     "output_type": "execute_result"
    }
   ],
   "source": [
    "manual_out.head()"
   ]
  },
  {
   "cell_type": "markdown",
   "metadata": {},
   "source": [
    "**total power original data**"
   ]
  },
  {
   "cell_type": "code",
   "execution_count": 37,
   "metadata": {},
   "outputs": [
    {
     "data": {
      "text/html": [
       "<div>\n",
       "<style scoped>\n",
       "    .dataframe tbody tr th:only-of-type {\n",
       "        vertical-align: middle;\n",
       "    }\n",
       "\n",
       "    .dataframe tbody tr th {\n",
       "        vertical-align: top;\n",
       "    }\n",
       "\n",
       "    .dataframe thead th {\n",
       "        text-align: right;\n",
       "    }\n",
       "</style>\n",
       "<table border=\"1\" class=\"dataframe\">\n",
       "  <thead>\n",
       "    <tr style=\"text-align: right;\">\n",
       "      <th></th>\n",
       "      <th>Δtank_0</th>\n",
       "      <th>Δtank_1</th>\n",
       "      <th>Δtank_2</th>\n",
       "      <th>Δtank_3</th>\n",
       "      <th>Δtank_4</th>\n",
       "      <th>Δtank_5</th>\n",
       "      <th>pumps_kw_0</th>\n",
       "      <th>pumps_kw_1</th>\n",
       "      <th>pumps_kw_2</th>\n",
       "      <th>pumps_kw_3</th>\n",
       "      <th>pumps_kw_4</th>\n",
       "      <th>pumps_kw_5</th>\n",
       "      <th>pumps_kw_6</th>\n",
       "      <th>total_pumps_kw</th>\n",
       "    </tr>\n",
       "  </thead>\n",
       "  <tbody>\n",
       "    <tr>\n",
       "      <th>0</th>\n",
       "      <td>0.000096</td>\n",
       "      <td>0.000000e+00</td>\n",
       "      <td>0.000009</td>\n",
       "      <td>0.000079</td>\n",
       "      <td>0.000003</td>\n",
       "      <td>0.000100</td>\n",
       "      <td>1.61</td>\n",
       "      <td>50.4</td>\n",
       "      <td>6.38</td>\n",
       "      <td>11.86</td>\n",
       "      <td>22.06</td>\n",
       "      <td>17.95</td>\n",
       "      <td>50.4</td>\n",
       "      <td>160.66</td>\n",
       "    </tr>\n",
       "    <tr>\n",
       "      <th>1</th>\n",
       "      <td>0.000096</td>\n",
       "      <td>0.000000e+00</td>\n",
       "      <td>0.000009</td>\n",
       "      <td>0.000078</td>\n",
       "      <td>0.000003</td>\n",
       "      <td>0.000100</td>\n",
       "      <td>1.61</td>\n",
       "      <td>50.4</td>\n",
       "      <td>6.37</td>\n",
       "      <td>11.86</td>\n",
       "      <td>22.06</td>\n",
       "      <td>17.93</td>\n",
       "      <td>50.4</td>\n",
       "      <td>160.63</td>\n",
       "    </tr>\n",
       "    <tr>\n",
       "      <th>2</th>\n",
       "      <td>0.000096</td>\n",
       "      <td>3.333333e-07</td>\n",
       "      <td>0.000009</td>\n",
       "      <td>0.000078</td>\n",
       "      <td>0.000003</td>\n",
       "      <td>0.000099</td>\n",
       "      <td>1.61</td>\n",
       "      <td>50.4</td>\n",
       "      <td>6.37</td>\n",
       "      <td>11.86</td>\n",
       "      <td>22.06</td>\n",
       "      <td>17.91</td>\n",
       "      <td>50.4</td>\n",
       "      <td>160.61</td>\n",
       "    </tr>\n",
       "    <tr>\n",
       "      <th>3</th>\n",
       "      <td>0.000095</td>\n",
       "      <td>3.333333e-07</td>\n",
       "      <td>0.000009</td>\n",
       "      <td>0.000078</td>\n",
       "      <td>0.000004</td>\n",
       "      <td>0.000099</td>\n",
       "      <td>1.61</td>\n",
       "      <td>50.4</td>\n",
       "      <td>6.37</td>\n",
       "      <td>11.86</td>\n",
       "      <td>22.06</td>\n",
       "      <td>17.89</td>\n",
       "      <td>50.4</td>\n",
       "      <td>160.59</td>\n",
       "    </tr>\n",
       "    <tr>\n",
       "      <th>4</th>\n",
       "      <td>0.000096</td>\n",
       "      <td>6.666667e-07</td>\n",
       "      <td>0.000009</td>\n",
       "      <td>0.000077</td>\n",
       "      <td>0.000003</td>\n",
       "      <td>0.000098</td>\n",
       "      <td>1.61</td>\n",
       "      <td>50.4</td>\n",
       "      <td>6.37</td>\n",
       "      <td>11.86</td>\n",
       "      <td>22.06</td>\n",
       "      <td>17.87</td>\n",
       "      <td>50.4</td>\n",
       "      <td>160.57</td>\n",
       "    </tr>\n",
       "  </tbody>\n",
       "</table>\n",
       "</div>"
      ],
      "text/plain": [
       "    Δtank_0       Δtank_1   Δtank_2   Δtank_3   Δtank_4   Δtank_5  pumps_kw_0  \\\n",
       "0  0.000096  0.000000e+00  0.000009  0.000079  0.000003  0.000100        1.61   \n",
       "1  0.000096  0.000000e+00  0.000009  0.000078  0.000003  0.000100        1.61   \n",
       "2  0.000096  3.333333e-07  0.000009  0.000078  0.000003  0.000099        1.61   \n",
       "3  0.000095  3.333333e-07  0.000009  0.000078  0.000004  0.000099        1.61   \n",
       "4  0.000096  6.666667e-07  0.000009  0.000077  0.000003  0.000098        1.61   \n",
       "\n",
       "   pumps_kw_1  pumps_kw_2  pumps_kw_3  pumps_kw_4  pumps_kw_5  pumps_kw_6  \\\n",
       "0        50.4        6.38       11.86       22.06       17.95        50.4   \n",
       "1        50.4        6.37       11.86       22.06       17.93        50.4   \n",
       "2        50.4        6.37       11.86       22.06       17.91        50.4   \n",
       "3        50.4        6.37       11.86       22.06       17.89        50.4   \n",
       "4        50.4        6.37       11.86       22.06       17.87        50.4   \n",
       "\n",
       "   total_pumps_kw  \n",
       "0          160.66  \n",
       "1          160.63  \n",
       "2          160.61  \n",
       "3          160.59  \n",
       "4          160.57  "
      ]
     },
     "execution_count": 37,
     "metadata": {},
     "output_type": "execute_result"
    }
   ],
   "source": [
    "# somatorio da potencia de todas as bombas naquele time step\n",
    "manual_out[\"total_pumps_kw\"] = 0\n",
    "for d in range(7):\n",
    "    manual_out[\"total_pumps_kw\"] += manual_out[\"pumps_kw_\"+str(d)]\n",
    "manual_out.head()"
   ]
  },
  {
   "cell_type": "code",
   "execution_count": 38,
   "metadata": {},
   "outputs": [],
   "source": [
    "original_total_energy = manual_out['total_pumps_kw']*data_manual.t_step"
   ]
  },
  {
   "cell_type": "markdown",
   "metadata": {},
   "source": [
    "**Predict and integration**"
   ]
  },
  {
   "cell_type": "markdown",
   "metadata": {},
   "source": [
    "Splir X Y"
   ]
  },
  {
   "cell_type": "code",
   "execution_count": 39,
   "metadata": {},
   "outputs": [
    {
     "data": {
      "text/plain": [
       "Index(['time', 't_step', 'tank_0', 'tank_1', 'tank_2', 'tank_3', 'tank_4',\n",
       "       'tank_5', 'pumps_0', 'pumps_1', 'pumps_2', 'pumps_3', 'pumps_4',\n",
       "       'pumps_5', 'pumps_6', 'junction_2', 'junction_3', 'junction_10',\n",
       "       'junction_13', 'junction_16', 'junction_24', 'junction_25',\n",
       "       'junction_27', 'junction_28', 'junction_34', 'final_tank_0',\n",
       "       'final_tank_1', 'final_tank_2', 'final_tank_3', 'final_tank_4',\n",
       "       'final_tank_5'],\n",
       "      dtype='object')"
      ]
     },
     "execution_count": 39,
     "metadata": {},
     "output_type": "execute_result"
    }
   ],
   "source": [
    "data_manual = data_manual.reindex(columns=['time', 't_step', 'tank_0', 'tank_1', 'tank_2', 'tank_3', 'tank_4',\n",
    "       'tank_5', 'pumps_0', 'pumps_1',\n",
    "       'pumps_2', 'pumps_3', 'pumps_4', 'pumps_5', 'pumps_6', 'junction_2',\n",
    "       'junction_3', 'junction_10', 'junction_13', 'junction_16',\n",
    "       'junction_24', 'junction_25', 'junction_27', 'junction_28',\n",
    "       'junction_34', 'final_tank_0', 'final_tank_1', 'final_tank_2',\n",
    "       'final_tank_3', 'final_tank_4', 'final_tank_5'])\n",
    "data_manual.columns"
   ]
  },
  {
   "cell_type": "code",
   "execution_count": 40,
   "metadata": {},
   "outputs": [],
   "source": [
    "#in\n",
    "tank_columns = [column for column in X_train.columns if column.startswith('tank_')]\n",
    "junction_columns = [column for column in X_train.columns if column.startswith('junction_')]\n",
    "##out\n",
    "Δtank_columns = [column for column in y_train.columns if column.startswith('Δtank_')]\n",
    "pumps_kw_columns = [column for column in y_train.columns if column.startswith('pumps_kw')]\n",
    "#\n",
    "## Specify the columns you want to normalize\n",
    "columns_to_normalize1 = tank_columns + junction_columns\n",
    "columns_to_normalize2 = Δtank_columns + pumps_kw_columns\n"
   ]
  },
  {
   "cell_type": "code",
   "execution_count": 41,
   "metadata": {},
   "outputs": [
    {
     "data": {
      "text/html": [
       "<div>\n",
       "<style scoped>\n",
       "    .dataframe tbody tr th:only-of-type {\n",
       "        vertical-align: middle;\n",
       "    }\n",
       "\n",
       "    .dataframe tbody tr th {\n",
       "        vertical-align: top;\n",
       "    }\n",
       "\n",
       "    .dataframe thead th {\n",
       "        text-align: right;\n",
       "    }\n",
       "</style>\n",
       "<table border=\"1\" class=\"dataframe\">\n",
       "  <thead>\n",
       "    <tr style=\"text-align: right;\">\n",
       "      <th></th>\n",
       "      <th>pumps_0</th>\n",
       "      <th>pumps_1</th>\n",
       "      <th>pumps_2</th>\n",
       "      <th>pumps_3</th>\n",
       "      <th>pumps_4</th>\n",
       "      <th>pumps_5</th>\n",
       "      <th>pumps_6</th>\n",
       "      <th>junction_2</th>\n",
       "      <th>junction_3</th>\n",
       "      <th>junction_10</th>\n",
       "      <th>junction_13</th>\n",
       "      <th>junction_16</th>\n",
       "      <th>junction_24</th>\n",
       "      <th>junction_25</th>\n",
       "      <th>junction_27</th>\n",
       "      <th>junction_28</th>\n",
       "      <th>junction_34</th>\n",
       "    </tr>\n",
       "  </thead>\n",
       "  <tbody>\n",
       "    <tr>\n",
       "      <th>0</th>\n",
       "      <td>1.0</td>\n",
       "      <td>1.0</td>\n",
       "      <td>1.0</td>\n",
       "      <td>1.0</td>\n",
       "      <td>1.0</td>\n",
       "      <td>1.0</td>\n",
       "      <td>1.0</td>\n",
       "      <td>6.248</td>\n",
       "      <td>4.048</td>\n",
       "      <td>12.43</td>\n",
       "      <td>2.343</td>\n",
       "      <td>4.081</td>\n",
       "      <td>1.1</td>\n",
       "      <td>0.121</td>\n",
       "      <td>1.562</td>\n",
       "      <td>0.11</td>\n",
       "      <td>17.875</td>\n",
       "    </tr>\n",
       "    <tr>\n",
       "      <th>1</th>\n",
       "      <td>1.0</td>\n",
       "      <td>1.0</td>\n",
       "      <td>1.0</td>\n",
       "      <td>1.0</td>\n",
       "      <td>1.0</td>\n",
       "      <td>1.0</td>\n",
       "      <td>1.0</td>\n",
       "      <td>6.248</td>\n",
       "      <td>4.048</td>\n",
       "      <td>12.43</td>\n",
       "      <td>2.343</td>\n",
       "      <td>4.081</td>\n",
       "      <td>1.1</td>\n",
       "      <td>0.121</td>\n",
       "      <td>1.562</td>\n",
       "      <td>0.11</td>\n",
       "      <td>17.875</td>\n",
       "    </tr>\n",
       "    <tr>\n",
       "      <th>2</th>\n",
       "      <td>1.0</td>\n",
       "      <td>1.0</td>\n",
       "      <td>1.0</td>\n",
       "      <td>1.0</td>\n",
       "      <td>1.0</td>\n",
       "      <td>1.0</td>\n",
       "      <td>1.0</td>\n",
       "      <td>6.248</td>\n",
       "      <td>4.048</td>\n",
       "      <td>12.43</td>\n",
       "      <td>2.343</td>\n",
       "      <td>4.081</td>\n",
       "      <td>1.1</td>\n",
       "      <td>0.121</td>\n",
       "      <td>1.562</td>\n",
       "      <td>0.11</td>\n",
       "      <td>17.875</td>\n",
       "    </tr>\n",
       "    <tr>\n",
       "      <th>3</th>\n",
       "      <td>1.0</td>\n",
       "      <td>1.0</td>\n",
       "      <td>1.0</td>\n",
       "      <td>1.0</td>\n",
       "      <td>1.0</td>\n",
       "      <td>1.0</td>\n",
       "      <td>1.0</td>\n",
       "      <td>6.248</td>\n",
       "      <td>4.048</td>\n",
       "      <td>12.43</td>\n",
       "      <td>2.343</td>\n",
       "      <td>4.081</td>\n",
       "      <td>1.1</td>\n",
       "      <td>0.121</td>\n",
       "      <td>1.562</td>\n",
       "      <td>0.11</td>\n",
       "      <td>17.875</td>\n",
       "    </tr>\n",
       "    <tr>\n",
       "      <th>4</th>\n",
       "      <td>1.0</td>\n",
       "      <td>1.0</td>\n",
       "      <td>1.0</td>\n",
       "      <td>1.0</td>\n",
       "      <td>1.0</td>\n",
       "      <td>1.0</td>\n",
       "      <td>1.0</td>\n",
       "      <td>6.248</td>\n",
       "      <td>4.048</td>\n",
       "      <td>12.43</td>\n",
       "      <td>2.343</td>\n",
       "      <td>4.081</td>\n",
       "      <td>1.1</td>\n",
       "      <td>0.121</td>\n",
       "      <td>1.562</td>\n",
       "      <td>0.11</td>\n",
       "      <td>17.875</td>\n",
       "    </tr>\n",
       "  </tbody>\n",
       "</table>\n",
       "</div>"
      ],
      "text/plain": [
       "   pumps_0  pumps_1  pumps_2  pumps_3  pumps_4  pumps_5  pumps_6  junction_2  \\\n",
       "0      1.0      1.0      1.0      1.0      1.0      1.0      1.0       6.248   \n",
       "1      1.0      1.0      1.0      1.0      1.0      1.0      1.0       6.248   \n",
       "2      1.0      1.0      1.0      1.0      1.0      1.0      1.0       6.248   \n",
       "3      1.0      1.0      1.0      1.0      1.0      1.0      1.0       6.248   \n",
       "4      1.0      1.0      1.0      1.0      1.0      1.0      1.0       6.248   \n",
       "\n",
       "   junction_3  junction_10  junction_13  junction_16  junction_24  \\\n",
       "0       4.048        12.43        2.343        4.081          1.1   \n",
       "1       4.048        12.43        2.343        4.081          1.1   \n",
       "2       4.048        12.43        2.343        4.081          1.1   \n",
       "3       4.048        12.43        2.343        4.081          1.1   \n",
       "4       4.048        12.43        2.343        4.081          1.1   \n",
       "\n",
       "   junction_25  junction_27  junction_28  junction_34  \n",
       "0        0.121        1.562         0.11       17.875  \n",
       "1        0.121        1.562         0.11       17.875  \n",
       "2        0.121        1.562         0.11       17.875  \n",
       "3        0.121        1.562         0.11       17.875  \n",
       "4        0.121        1.562         0.11       17.875  "
      ]
     },
     "execution_count": 41,
     "metadata": {},
     "output_type": "execute_result"
    }
   ],
   "source": [
    "# In\n",
    "X_manual = data_manual.loc[:, 'tank_0':'junction_34']\n",
    "# Out\n",
    "y_manual= manual_out.loc[:,'Δtank_0':'pumps_kw_6']\n",
    "\n",
    "new_x = X_manual.drop(columns=tank_columns)\n",
    "new_x.head()"
   ]
  },
  {
   "cell_type": "markdown",
   "metadata": {},
   "source": [
    "**Initial level**"
   ]
  },
  {
   "cell_type": "code",
   "execution_count": 42,
   "metadata": {},
   "outputs": [
    {
     "name": "stdout",
     "output_type": "stream",
     "text": [
      "   tank_0  tank_1  tank_2  tank_3  tank_4  tank_5\n",
      "0    1.84    3.12    1.94    3.37    2.47    1.96\n"
     ]
    }
   ],
   "source": [
    "tank_columns = [col for col in data_manual.columns if col.startswith('tank_')]\n",
    "# Create a new dataframe with only the first value of each 'tank_0' column\n",
    "init_level = pd.DataFrame()\n",
    "for col in tank_columns:\n",
    "    init_level[col] = [data_manual[col].iloc[0]]\n",
    "\n",
    "# Print the 'init_level' dataframe\n",
    "print(init_level)"
   ]
  },
  {
   "cell_type": "markdown",
   "metadata": {},
   "source": [
    "**For Standardize**"
   ]
  },
  {
   "cell_type": "code",
   "execution_count": 48,
   "metadata": {},
   "outputs": [],
   "source": [
    "# Import dos scalers\n",
    "scaler_in2 = joblib.load('scaler_in_richmond.joblib')\n",
    "scaler_out2 = joblib.load('scaler_out_richmond.joblib')"
   ]
  },
  {
   "cell_type": "code",
   "execution_count": 49,
   "metadata": {},
   "outputs": [
    {
     "data": {
      "text/plain": [
       "array(['tank_0', 'tank_1', 'tank_2', 'tank_3', 'tank_4', 'tank_5',\n",
       "       'junction_2', 'junction_3', 'junction_10', 'junction_13',\n",
       "       'junction_16', 'junction_24', 'junction_25', 'junction_27',\n",
       "       'junction_28', 'junction_34'], dtype=object)"
      ]
     },
     "execution_count": 49,
     "metadata": {},
     "output_type": "execute_result"
    }
   ],
   "source": [
    "scaler_in2.feature_names_in_"
   ]
  },
  {
   "cell_type": "code",
   "execution_count": 50,
   "metadata": {},
   "outputs": [
    {
     "name": "stdout",
     "output_type": "stream",
     "text": [
      "['tank_0', 'tank_1', 'tank_2', 'tank_3', 'tank_4', 'tank_5', 'junction_2', 'junction_3', 'junction_10', 'junction_13', 'junction_16', 'junction_24', 'junction_25', 'junction_27', 'junction_28', 'junction_34']\n"
     ]
    }
   ],
   "source": [
    "print(columns_to_normalize1)"
   ]
  },
  {
   "cell_type": "code",
   "execution_count": 51,
   "metadata": {},
   "outputs": [],
   "source": [
    "# Standardize input\n",
    "#data_manual_st[columns_to_normalize1] = scaler_in2.transform(data_manual_st[columns_to_normalize1])\n",
    "#Standardize output\n",
    "#manual_out_st[columns_to_normalize2] = scaler_out2.transform(manual_out_st[columns_to_normalize2])\n"
   ]
  },
  {
   "cell_type": "markdown",
   "metadata": {},
   "source": [
    "### Making predictions - For cross testing"
   ]
  },
  {
   "cell_type": "code",
   "execution_count": 52,
   "metadata": {},
   "outputs": [
    {
     "name": "stdout",
     "output_type": "stream",
     "text": [
      "(576, 6)\n",
      "(576, 7)\n"
     ]
    }
   ],
   "source": [
    "tank_final = pd.DataFrame()\n",
    "potencia = pd.DataFrame()\n",
    "tank_0 = pd.DataFrame()\n",
    "\n",
    "pump_columns = [col for col in y_manual.columns if col.startswith('pumps_')]\n",
    "final = pd.DataFrame(0,index=[0], columns=[tank_columns]) # inicializar dataframe com indice\n",
    "power = pd.DataFrame(0,index=[0], columns=[pump_columns]) \n",
    "for i in range(len(data_manual['t_step'])):\n",
    "    if data_manual['time'][i] == 0:\n",
    "        #tank_0 = init_level  # dataframe niveis iniciais de cada tanque\n",
    "        final = init_level\n",
    "        power = pd.DataFrame(manual_out[pump_columns].iloc[[0]], index=[0], columns=pump_columns)\n",
    "    else:\n",
    "        \n",
    "        tank_0 = tank_final.iloc[[-1]]\n",
    "        new_row=new_x.iloc[[i]]\n",
    "        x_test = pd.concat([tank_0.reset_index(drop=True), new_row.reset_index(drop=True)], axis=1)\n",
    "        dtime = data_manual['t_step'][i]\n",
    "        \n",
    "        # Normalization\n",
    "        x_normalizado = x_test.copy()\n",
    "        x_normalizado[columns_to_normalize1] = scaler_in2.transform(x_normalizado[columns_to_normalize1])\n",
    "        \n",
    "        # Prediction\n",
    "        y_pred = model.predict(x_normalizado)\n",
    "        y_pred_df = pd.DataFrame(data=y_pred, columns=[columns_to_normalize2])\n",
    "        \n",
    "        # Desnormalizar\n",
    "        y_pred_un = pd.DataFrame(scaler_out2.inverse_transform(y_pred_df[columns_to_normalize2]), columns=[columns_to_normalize2])\n",
    "        # Integration\n",
    "        #final = pd.DataFrame(index=y_pred_un.index) #same index as y_pred_un\n",
    "        #power = pd.DataFrame(index=y_pred_un.index) #same index as y_pred_un\n",
    "        for j in tank_columns:\n",
    "            final[j] = (y_pred_un['Δ' + j].values * dtime) + tank_0[j].values\n",
    "        for h in pump_columns:\n",
    "            power[h] = y_pred_un[h]\n",
    "\n",
    "    tank_final = pd.concat([tank_final, final], ignore_index=True)\n",
    "    potencia = pd.concat([potencia, power], ignore_index=True)\n",
    "    \n",
    "    ## Add the last element\n",
    "    #tank_0 = tank_final[-1]\n",
    "    #x_test = pd.concat([tank_0.reset_index(drop=True), new_row.reset_index(drop=True)], axis=1)    dtime = manual_in['t_step'].iloc[-1]\n",
    "    #x_normalizado = x_test.copy()\n",
    "    #x_normalizado[columns_to_normalize1] = scaler_in2.transform(x_normalizado[columns_to_normalize1])\n",
    "    #y_pred = model.predict(x_normalizado)\n",
    "    #y_pred_df = pd.DataFrame(data=y_pred, columns=[columns_to_normalize2])\n",
    "    #y_pred_un = scaler_out2.inverse_transform(y_pred_df[columns_to_normalize2])\n",
    "    #for j in tank_columns:\n",
    "    #        final[j] = (y_pred_un['Δ' + j].values * dtime) + tank_0[j].values\n",
    "    #for h in pump_columns:\n",
    "    #        power[h] = y_pred_un[h]\n",
    "    #tank_final = pd.concat([tank_final, final], ignore_index=True)\n",
    "    #potencia = pd.concat([potencia, power], ignore_index=True)\n",
    "    \n",
    "print(tank_final.shape)\n",
    "print(potencia.shape)"
   ]
  },
  {
   "cell_type": "code",
   "execution_count": 53,
   "metadata": {},
   "outputs": [
    {
     "data": {
      "text/html": [
       "<div>\n",
       "<style scoped>\n",
       "    .dataframe tbody tr th:only-of-type {\n",
       "        vertical-align: middle;\n",
       "    }\n",
       "\n",
       "    .dataframe tbody tr th {\n",
       "        vertical-align: top;\n",
       "    }\n",
       "\n",
       "    .dataframe thead th {\n",
       "        text-align: right;\n",
       "    }\n",
       "</style>\n",
       "<table border=\"1\" class=\"dataframe\">\n",
       "  <thead>\n",
       "    <tr style=\"text-align: right;\">\n",
       "      <th></th>\n",
       "      <th>tank_0</th>\n",
       "      <th>tank_1</th>\n",
       "      <th>tank_2</th>\n",
       "      <th>tank_3</th>\n",
       "      <th>tank_4</th>\n",
       "      <th>tank_5</th>\n",
       "    </tr>\n",
       "  </thead>\n",
       "  <tbody>\n",
       "    <tr>\n",
       "      <th>0</th>\n",
       "      <td>1.840000</td>\n",
       "      <td>3.120000</td>\n",
       "      <td>1.940000</td>\n",
       "      <td>3.370000</td>\n",
       "      <td>2.470000</td>\n",
       "      <td>1.960000</td>\n",
       "    </tr>\n",
       "    <tr>\n",
       "      <th>1</th>\n",
       "      <td>1.868746</td>\n",
       "      <td>3.119734</td>\n",
       "      <td>1.943003</td>\n",
       "      <td>3.393565</td>\n",
       "      <td>2.470997</td>\n",
       "      <td>1.988423</td>\n",
       "    </tr>\n",
       "    <tr>\n",
       "      <th>2</th>\n",
       "      <td>1.897492</td>\n",
       "      <td>3.119527</td>\n",
       "      <td>1.946005</td>\n",
       "      <td>3.417129</td>\n",
       "      <td>2.471994</td>\n",
       "      <td>2.016846</td>\n",
       "    </tr>\n",
       "    <tr>\n",
       "      <th>3</th>\n",
       "      <td>1.926238</td>\n",
       "      <td>3.119320</td>\n",
       "      <td>1.949008</td>\n",
       "      <td>3.440551</td>\n",
       "      <td>2.472991</td>\n",
       "      <td>2.045469</td>\n",
       "    </tr>\n",
       "    <tr>\n",
       "      <th>4</th>\n",
       "      <td>1.954984</td>\n",
       "      <td>3.119112</td>\n",
       "      <td>1.952011</td>\n",
       "      <td>3.463678</td>\n",
       "      <td>2.473989</td>\n",
       "      <td>2.074093</td>\n",
       "    </tr>\n",
       "  </tbody>\n",
       "</table>\n",
       "</div>"
      ],
      "text/plain": [
       "     tank_0    tank_1    tank_2    tank_3    tank_4    tank_5\n",
       "0  1.840000  3.120000  1.940000  3.370000  2.470000  1.960000\n",
       "1  1.868746  3.119734  1.943003  3.393565  2.470997  1.988423\n",
       "2  1.897492  3.119527  1.946005  3.417129  2.471994  2.016846\n",
       "3  1.926238  3.119320  1.949008  3.440551  2.472991  2.045469\n",
       "4  1.954984  3.119112  1.952011  3.463678  2.473989  2.074093"
      ]
     },
     "execution_count": 53,
     "metadata": {},
     "output_type": "execute_result"
    }
   ],
   "source": [
    "tank_final.head()"
   ]
  },
  {
   "cell_type": "markdown",
   "metadata": {},
   "source": [
    "## Plots"
   ]
  },
  {
   "cell_type": "code",
   "execution_count": 54,
   "metadata": {},
   "outputs": [
    {
     "data": {
      "text/plain": [
       "(576, 31)"
      ]
     },
     "execution_count": 54,
     "metadata": {},
     "output_type": "execute_result"
    }
   ],
   "source": [
    "data_manual.shape"
   ]
  },
  {
   "cell_type": "markdown",
   "metadata": {},
   "source": [
    "**Tanks Plot**"
   ]
  },
  {
   "cell_type": "code",
   "execution_count": 55,
   "metadata": {},
   "outputs": [
    {
     "data": {
      "image/png": "[encoded data removed]",
      "text/plain": [
       "<Figure size 640x480 with 1 Axes>"
      ]
     },
     "metadata": {},
     "output_type": "display_data"
    },
    {
     "data": {
      "image/png": "[encoded data removed]",
      "text/plain": [
       "<Figure size 350x262.5 with 1 Axes>"
      ]
     },
     "metadata": {},
     "output_type": "display_data"
    },
    {
     "data": {
      "image/png": "[encoded data removed]",
      "text/plain": [
       "<Figure size 350x262.5 with 1 Axes>"
      ]
     },
     "metadata": {},
     "output_type": "display_data"
    },
    {
     "data": {
      "image/png": "[encoded data removed]",
      "text/plain": [
       "<Figure size 350x262.5 with 1 Axes>"
      ]
     },
     "metadata": {},
     "output_type": "display_data"
    },
    {
     "data": {
      "image/png": "[encoded data removed]",
      "text/plain": [
       "<Figure size 350x262.5 with 1 Axes>"
      ]
     },
     "metadata": {},
     "output_type": "display_data"
    },
    {
     "data": {
      "image/png": "[encoded data removed]",
      "text/plain": [
       "<Figure size 350x262.5 with 1 Axes>"
      ]
     },
     "metadata": {},
     "output_type": "display_data"
    },
    {
     "data": {
      "image/png": "[encoded data removed]",
      "text/plain": [
       "<Figure size 350x262.5 with 1 Axes>"
      ]
     },
     "metadata": {},
     "output_type": "display_data"
    }
   ],
   "source": [
    "time_hour = data_manual['time'] / 3600\n",
    "\n",
    "with plt.style.context('science'):    \n",
    "    for m in tank_columns:\n",
    "        plt.figure()  # Create a new figure for each tank column\n",
    "        plt.plot(time_hour, data_manual['final_' + str(m)], label='Epanet')\n",
    "        plt.plot(time_hour, tank_final[m], label='Predicted')\n",
    "        plt.legend()\n",
    "        plt.xlabel('Time [Hour]')\n",
    "        plt.ylabel('Tank level [m]')\n",
    "        plt.title('{} level error propagation'.format(m))\n",
    "        plt.savefig(os.path.join(save_directory, m + \" level_error_propagation.pdf\"), dpi=300)\n",
    "        plt.show()"
   ]
  },
  {
   "cell_type": "markdown",
   "metadata": {},
   "source": [
    "Pumps plot"
   ]
  },
  {
   "cell_type": "code",
   "execution_count": 56,
   "metadata": {},
   "outputs": [
    {
     "data": {
      "image/png": "[encoded data removed]",
      "text/plain": [
       "<Figure size 350x262.5 with 1 Axes>"
      ]
     },
     "metadata": {},
     "output_type": "display_data"
    },
    {
     "data": {
      "image/png": "[encoded data removed]",
      "text/plain": [
       "<Figure size 350x262.5 with 1 Axes>"
      ]
     },
     "metadata": {},
     "output_type": "display_data"
    },
    {
     "data": {
      "image/png": "[encoded data removed]",
      "text/plain": [
       "<Figure size 350x262.5 with 1 Axes>"
      ]
     },
     "metadata": {},
     "output_type": "display_data"
    },
    {
     "data": {
      "image/png": "[encoded data removed]",
      "text/plain": [
       "<Figure size 350x262.5 with 1 Axes>"
      ]
     },
     "metadata": {},
     "output_type": "display_data"
    },
    {
     "data": {
      "image/png": "[encoded data removed]",
      "text/plain": [
       "<Figure size 350x262.5 with 1 Axes>"
      ]
     },
     "metadata": {},
     "output_type": "display_data"
    },
    {
     "data": {
      "image/png": "[encoded data removed]",
      "text/plain": [
       "<Figure size 350x262.5 with 1 Axes>"
      ]
     },
     "metadata": {},
     "output_type": "display_data"
    },
    {
     "data": {
      "image/png": "[encoded data removed]",
      "text/plain": [
       "<Figure size 350x262.5 with 1 Axes>"
      ]
     },
     "metadata": {},
     "output_type": "display_data"
    }
   ],
   "source": [
    "time_hour = data_manual['time'] / 3600\n",
    "with plt.style.context('science'):    \n",
    "    for j in pump_columns:\n",
    "        plt.figure()  # Create a new figure for each tank column\n",
    "        plt.plot(time_hour, manual_out[j], label='Epanet')\n",
    "        plt.plot(time_hour, potencia[j], label='Predicted')\n",
    "        plt.legend()\n",
    "        plt.xlabel('Time [Hour]')\n",
    "        plt.ylabel('Pum Power level [kw]')\n",
    "        plt.title('{}  error propagation'.format(j))\n",
    "        plt.savefig(os.path.join(save_directory, j + \"_error_propagation.pdf\"), dpi=300)\n",
    "        plt.show()"
   ]
  },
  {
   "cell_type": "markdown",
   "metadata": {},
   "source": [
    "## Metrics Cross Testing"
   ]
  },
  {
   "cell_type": "code",
   "execution_count": 57,
   "metadata": {},
   "outputs": [
    {
     "name": "stdout",
     "output_type": "stream",
     "text": [
      "                RMSE       MSE        R2\n",
      "pumps_kw_0  0.182507  0.033309  0.944404\n",
      "pumps_kw_1  0.043713  0.001911  0.999997\n",
      "pumps_kw_2  0.016900  0.000286  0.999969\n",
      "pumps_kw_3  0.005003  0.000025  0.999999\n",
      "pumps_kw_4  0.004447  0.000020  1.000000\n",
      "pumps_kw_5  0.088426  0.007819  0.999892\n",
      "pumps_kw_6  0.042736  0.001826  0.999997\n",
      "            RMSE       MSE        R2\n",
      "tank_0  0.025439  0.000647  0.999645\n",
      "tank_1  0.212485  0.045150  0.897758\n",
      "tank_2  0.040235  0.001619  0.991076\n",
      "tank_3  0.050671  0.002568  0.997744\n",
      "tank_4  0.069034  0.004766  0.994610\n",
      "tank_5  0.034517  0.001191  0.999519\n"
     ]
    }
   ],
   "source": [
    "# Calculate RMSE and MSE separately for pumps and tanks\n",
    "\n",
    "# Pumps\n",
    "r2_dict2_pumps = {}\n",
    "rmse_dict2_pumps = {}\n",
    "mse_dict2_pumps = {}\n",
    "\n",
    "for column in pump_columns:\n",
    "    r22_p = r2_score(potencia[column],manual_out[column])\n",
    "    rmse2_p = np.sqrt(mean_squared_error(potencia[column], manual_out[column]))\n",
    "    mse2_p = mean_squared_error(potencia[column], manual_out[column])\n",
    "    \n",
    "    r2_dict2_pumps[column] = r22_p\n",
    "    rmse_dict2_pumps[column] = rmse2_p\n",
    "    mse_dict2_pumps[column] = mse2_p\n",
    "\n",
    "# Tanks\n",
    "r2_dict2_tanks = {}\n",
    "rmse_dict2_tanks = {}\n",
    "mse_dict2_tanks = {}\n",
    "for column in tank_columns:\n",
    "    r22_t = r2_score(tank_final[column],data_manual['final_'+str(column)])\n",
    "    rmse2_t = np.sqrt(mean_squared_error(tank_final[column],data_manual['final_'+str(column)]))\n",
    "    mse2_t = mean_squared_error(tank_final[column],data_manual['final_'+str(column)])\n",
    "    \n",
    "    r2_dict2_tanks[column] = r22_t\n",
    "    rmse_dict2_tanks[column] = rmse2_t\n",
    "    mse_dict2_tanks[column] = mse2_t\n",
    "\n",
    "# Create separate DataFrames for pumps and tanks\n",
    "metrics_cross_pumps = pd.DataFrame({'RMSE': rmse_dict2_pumps, 'MSE': mse_dict2_pumps, 'R2': r2_dict2_pumps })\n",
    "metrics_cross_tanks = pd.DataFrame({'RMSE': rmse_dict2_tanks, 'MSE': mse_dict2_tanks, 'R2': r2_dict2_tanks })\n",
    "\n",
    "print(metrics_cross_pumps)\n",
    "print(metrics_cross_tanks)"
   ]
  },
  {
   "cell_type": "code",
   "execution_count": 58,
   "metadata": {},
   "outputs": [
    {
     "data": {
      "image/png": "[encoded data removed]",
      "text/plain": [
       "<Figure size 1000x600 with 1 Axes>"
      ]
     },
     "metadata": {},
     "output_type": "display_data"
    }
   ],
   "source": [
    "## Bar graph for R2 with inclined values\n",
    "#r2_graph2_p = metrics_cross_pumps['R2'].plot(kind='bar', figsize=(8, 6))\n",
    "#r2_graph2_p.set_xlabel('Output features')\n",
    "#r2_graph2_p.set_ylabel('R2')\n",
    "#r2_graph2_p.set_title('Pump Power R2 Scores')\n",
    "#\n",
    "## Add inclined values on top of the bars\n",
    "#with plt.style.context('science'):    \n",
    "#    for i in r2_graph2_p.patches:\n",
    "#        r2_graph2_p.annotate(format(i.get_height(), '.3f'),\n",
    "#                                (i.get_x() + i.get_width() / 2, i.get_height()),\n",
    "#                                ha='center',\n",
    "#                                va='center',\n",
    "#                                xytext=(0, 5),\n",
    "#                                textcoords='offset points',\n",
    "#                                rotation='horizontal')\n",
    "#    #plt.savefig(os.path.join(save_directory, \"rich_Pump_Power_R2_Scores.pdf\"), dpi=300)\n",
    "#    plt.show()\n",
    "\n",
    "## Bar graph for MSE with inclined values\n",
    "#mse_graph2_p = metrics_cross_pumps[['MSE']].plot(kind='bar', figsize=(10, 6))\n",
    "#mse_graph2_p.set_xlabel('Output features')\n",
    "#mse_graph2_p.set_ylabel('Value')\n",
    "#mse_graph2_p.set_title('Pump Power Mean Squared Error [MSE]')\n",
    "\n",
    "## Bar graph RMSE with inclined values\n",
    "#rmse_graph2_p = metrics_cross_pumps[['RMSE']].plot(kind='bar', figsize=(10, 6))\n",
    "#rmse_graph2_p.set_xlabel('Output features')\n",
    "#rmse_graph2_p.set_ylabel('Value')\n",
    "#rmse_graph2_p.set_title('Pump Power Root Mean Squared Error [RMSE]')\n",
    "#\n",
    "## Add inclined values on top of the bars\n",
    "#with plt.style.context('science'):    \n",
    "#    for i in rmse_graph2_p.patches:\n",
    "#        rmse_graph2_p.annotate(format(i.get_height(), '.3f'),\n",
    "#                                (i.get_x() + i.get_width() / 2, i.get_height()),\n",
    "#                                ha='center',\n",
    "#                                va='center',\n",
    "#                                xytext=(0, 5),\n",
    "#                                textcoords='offset points',\n",
    "#                                rotation='horizontal')\n",
    "#    #plt.savefig(os.path.join(save_directory, \"rich_Pump_Power_RMSE_Scores.pdf\"), dpi=300)\n",
    "\n",
    "\n",
    "    # Add inclined values on top of the bars\n",
    "#    for i in mse_graph2_p.patches:\n",
    "#        mse_graph2_p.annotate(format(i.get_height(), '.3f'),\n",
    "#                                (i.get_x() + i.get_width() / 2, i.get_height()),\n",
    "#                                ha='center',\n",
    "#                                va='center',\n",
    "#                                xytext=(0, 5),\n",
    "#                                textcoords='offset points',\n",
    "#                                rotation='horizontal')\n",
    "#\n",
    "#    plt.legend(loc='upper right')\n",
    "#    #plt.savefig(os.path.join(save_directory, \"rich_Pump_Power_MSE_Scores.pdf\"), dpi=300)\n",
    "#    plt.show()\n",
    "\n",
    "# Tanks\n",
    "\n",
    "## Bar graph for R2 with inclined values\n",
    "#r2_graph2_t = metrics_cross_pumps['R2'].plot(kind='bar', figsize=(8, 6))\n",
    "#r2_graph2_t.set_xlabel('Output features')\n",
    "#r2_graph2_t.set_ylabel('R2')\n",
    "#r2_graph2_t.set_title(' Tank Level R2 Scores')\n",
    "#\n",
    "## Add inclined values on top of the bars\n",
    "#with plt.style.context('science'):    \n",
    "#    for i in r2_graph2_t.patches:\n",
    "#        r2_graph2_t.annotate(format(i.get_height(), '.3f'),\n",
    "#                                (i.get_x() + i.get_width() / 2, i.get_height()),\n",
    "#                                ha='center',\n",
    "#                                va='center',\n",
    "#                                xytext=(0, 5),\n",
    "#                                textcoords='offset points',\n",
    "#                                rotation='horizontal')\n",
    "#    #plt.savefig(os.path.join(save_directory, \"rich_Tank_Level_R2_Scores.pdf\"), dpi=300)\n",
    "#    plt.show()\n",
    "    \n",
    "# Bar graph for MSE with inclined values\n",
    "mse_graph2_t = metrics_cross_tanks[['MSE']].plot(kind='bar', figsize=(10, 6))\n",
    "mse_graph2_t.set_xlabel('Output features')\n",
    "mse_graph2_t.set_ylabel('Value')\n",
    "mse_graph2_t.set_title('Tank level Mean Squared Error [MSE]')\n",
    "\n",
    "## Bar graph RMSE with inclined values\n",
    "#rmse_graph2_t = metrics_cross_tanks[['RMSE']].plot(kind='bar', figsize=(10, 6))\n",
    "#rmse_graph2_t.set_xlabel('Output features')\n",
    "#rmse_graph2_t.set_ylabel('Value')\n",
    "#rmse_graph2_t.set_title('Tank Level Root Mean Squared Error [RMSE]')\n",
    "\n",
    "# Add inclined values on top of the bars\n",
    "#with plt.style.context('science'):    \n",
    "#    for i in rmse_graph2_t.patches:\n",
    "#        rmse_graph2_t.annotate(format(i.get_height(), '.3f'),\n",
    "#                                (i.get_x() + i.get_width() / 2, i.get_height()),\n",
    "#                                ha='center',\n",
    "#                                va='center',\n",
    "#                                xytext=(0, 5),\n",
    "#                                textcoords='offset points',\n",
    "#                                rotation='horizontal')   \n",
    "#    #plt.savefig(os.path.join(save_directory, \"rich_Tank_Level_RMSE_Scores.pdf\"), dpi=300)\n",
    "#\n",
    "\n",
    "# Add inclined values on top of the bars\n",
    "with plt.style.context('science'):    \n",
    "    for i in mse_graph2_t.patches:\n",
    "        mse_graph2_t.annotate(format(i.get_height(), '.3f'),\n",
    "                                (i.get_x() + i.get_width() / 2, i.get_height()),\n",
    "                                ha='center',\n",
    "                                va='center',\n",
    "                                xytext=(0, 5),\n",
    "                                textcoords='offset points',\n",
    "                                rotation='horizontal')\n",
    "    plt.savefig(os.path.join(save_directory, \"rich_Tank_Level_MSE_Scores.pdf\"), dpi=300)\n",
    "    plt.legend(loc='upper right')\n",
    "    plt.show()"
   ]
  },
  {
   "cell_type": "code",
   "execution_count": 59,
   "metadata": {},
   "outputs": [
    {
     "name": "stdout",
     "output_type": "stream",
     "text": [
      "Global Metrics for Pumps\n",
      "   Global RMSE  Global MSE  Global R2\n",
      "0     0.054819    0.006457   0.992037\n",
      "Global Metrics for Tanks\n",
      "   Global RMSE  Global MSE  Global R2\n",
      "0     0.072064    0.009323   0.980059\n"
     ]
    }
   ],
   "source": [
    "# Compute global metrics for pumps\n",
    "global_r2_pumps = np.mean(list(r2_dict2_pumps.values()))\n",
    "global_rmse_pumps = np.mean(list(rmse_dict2_pumps.values()))\n",
    "global_mse_pumps = np.mean(list(mse_dict2_pumps.values()))\n",
    "\n",
    "# Compute global metrics for tanks\n",
    "global_r2_tanks = np.mean(list(r2_dict2_tanks.values()))\n",
    "global_rmse_tanks = np.mean(list(rmse_dict2_tanks.values()))\n",
    "global_mse_tanks = np.mean(list(mse_dict2_tanks.values()))\n",
    "\n",
    "# Create DataFrame for global metrics\n",
    "global_metrics_pumps = pd.DataFrame({'Global RMSE': [global_rmse_pumps], 'Global MSE': [global_mse_pumps], 'Global R2': [global_r2_pumps]})\n",
    "global_metrics_tanks = pd.DataFrame({'Global RMSE': [global_rmse_tanks], 'Global MSE': [global_mse_tanks], 'Global R2': [global_r2_tanks]})\n",
    "\n",
    "print(\"Global Metrics for Pumps\")\n",
    "print(global_metrics_pumps)\n",
    "\n",
    "print(\"Global Metrics for Tanks\")\n",
    "print(global_metrics_tanks)"
   ]
  },
  {
   "cell_type": "markdown",
   "metadata": {},
   "source": [
    "### Erro relativo"
   ]
  },
  {
   "cell_type": "markdown",
   "metadata": {},
   "source": [
    "erro_relativo = erro(x)*100/(xmax-xmin)"
   ]
  },
  {
   "cell_type": "code",
   "execution_count": 60,
   "metadata": {},
   "outputs": [],
   "source": [
    "erro_p = {}  # Dictionary to store absolute error values\n",
    "erro_t = {} \n",
    "\n",
    "for column in pump_columns:\n",
    "        erro_p[column] = abs(manual_out[column] - potencia[column])\n",
    "        \n",
    "for column in tank_columns:\n",
    "        erro_t[column] = abs(data_manual['final_'+str(column)] - tank_final[column])\n",
    "\n",
    "# Erro relativo\n",
    "relative_error_p = {}\n",
    "for column, erro in erro_p.items():\n",
    "        pump_max = manual_out[column].max()\n",
    "        pump_min = manual_out[column].min()\n",
    "        relative_error_p[column] = erro * 100 / (pump_max - pump_min)\n",
    "        \n",
    "relative_error_t = {}\n",
    "for column, erro in erro_t.items():\n",
    "        final_tank_max = data_manual[column].max()\n",
    "        final_tank_min = data_manual[column].min()\n",
    "        relative_error_t[column] = erro * 100 / (final_tank_max - final_tank_min)\n"
   ]
  },
  {
   "cell_type": "code",
   "execution_count": 61,
   "metadata": {},
   "outputs": [],
   "source": [
    "t_rel_error_df = pd.DataFrame.from_dict(relative_error_t, orient='columns')\n",
    "p_rel_error_df = pd.DataFrame.from_dict(relative_error_p, orient='columns')"
   ]
  },
  {
   "cell_type": "markdown",
   "metadata": {},
   "source": [
    "error plots"
   ]
  },
  {
   "cell_type": "code",
   "execution_count": 62,
   "metadata": {},
   "outputs": [
    {
     "data": {
      "image/png": "[encoded data removed]",
      "text/plain": [
       "<Figure size 350x262.5 with 1 Axes>"
      ]
     },
     "metadata": {},
     "output_type": "display_data"
    },
    {
     "data": {
      "image/png": "[encoded data removed]",
      "text/plain": [
       "<Figure size 350x262.5 with 1 Axes>"
      ]
     },
     "metadata": {},
     "output_type": "display_data"
    },
    {
     "data": {
      "image/png": "[encoded data removed]",
      "text/plain": [
       "<Figure size 350x262.5 with 1 Axes>"
      ]
     },
     "metadata": {},
     "output_type": "display_data"
    },
    {
     "data": {
      "image/png": "[encoded data removed]",
      "text/plain": [
       "<Figure size 350x262.5 with 1 Axes>"
      ]
     },
     "metadata": {},
     "output_type": "display_data"
    },
    {
     "data": {
      "image/png": "[encoded data removed]",
      "text/plain": [
       "<Figure size 350x262.5 with 1 Axes>"
      ]
     },
     "metadata": {},
     "output_type": "display_data"
    },
    {
     "data": {
      "image/png": "[encoded data removed]",
      "text/plain": [
       "<Figure size 350x262.5 with 1 Axes>"
      ]
     },
     "metadata": {},
     "output_type": "display_data"
    },
    {
     "data": {
      "image/png": "[encoded data removed]",
      "text/plain": [
       "<Figure size 350x262.5 with 1 Axes>"
      ]
     },
     "metadata": {},
     "output_type": "display_data"
    },
    {
     "data": {
      "image/png": "[encoded data removed]",
      "text/plain": [
       "<Figure size 350x262.5 with 1 Axes>"
      ]
     },
     "metadata": {},
     "output_type": "display_data"
    },
    {
     "data": {
      "image/png": "[encoded data removed]",
      "text/plain": [
       "<Figure size 350x262.5 with 1 Axes>"
      ]
     },
     "metadata": {},
     "output_type": "display_data"
    },
    {
     "data": {
      "image/png": "[encoded data removed]",
      "text/plain": [
       "<Figure size 350x262.5 with 1 Axes>"
      ]
     },
     "metadata": {},
     "output_type": "display_data"
    },
    {
     "data": {
      "image/png": "[encoded data removed]",
      "text/plain": [
       "<Figure size 350x262.5 with 1 Axes>"
      ]
     },
     "metadata": {},
     "output_type": "display_data"
    },
    {
     "data": {
      "image/png": "[encoded data removed]",
      "text/plain": [
       "<Figure size 350x262.5 with 1 Axes>"
      ]
     },
     "metadata": {},
     "output_type": "display_data"
    },
    {
     "data": {
      "image/png": "[encoded data removed]",
      "text/plain": [
       "<Figure size 350x262.5 with 1 Axes>"
      ]
     },
     "metadata": {},
     "output_type": "display_data"
    }
   ],
   "source": [
    "with plt.style.context('science'):    \n",
    "    for t in t_rel_error_df.columns:\n",
    "        plt.figure()  # Create a new figure for each tank column\n",
    "\n",
    "        plt.plot(time_hour, t_rel_error_df[t])\n",
    "        plt.xlabel('Time [h]')\n",
    "        plt.ylabel('Error [\\%]')\n",
    "        plt.title('{} Error'.format(t))\n",
    "        plt.savefig(os.path.join(save_directory, \"rich_t\" + t +  \"_error.pdf\"), dpi=300)\n",
    "        plt.show()\n",
    "    \n",
    "\n",
    "with plt.style.context('science'):      \n",
    "    for p in p_rel_error_df.columns:\n",
    "        plt.figure()  # Create a new figure for each tank column\n",
    "        \n",
    "        plt.plot(time_hour, p_rel_error_df[p])\n",
    "        plt.xlabel('Time [h]')\n",
    "        plt.ylabel('Error [\\%]')\n",
    "        plt.title('{} Error'.format(p))\n",
    "        plt.savefig(os.path.join(save_directory, \"rich_t\" + t +  \"_error.pdf\"), dpi=300)\n",
    "        plt.show()"
   ]
  },
  {
   "cell_type": "markdown",
   "metadata": {},
   "source": [
    "Energia"
   ]
  },
  {
   "cell_type": "code",
   "execution_count": 63,
   "metadata": {},
   "outputs": [
    {
     "data": {
      "text/plain": [
       "0      48198.0\n",
       "1      48189.0\n",
       "2      48183.0\n",
       "3      48177.0\n",
       "4      48171.0\n",
       "        ...   \n",
       "571        0.0\n",
       "572        0.0\n",
       "573        0.0\n",
       "574        0.0\n",
       "575        0.0\n",
       "Length: 576, dtype: float64"
      ]
     },
     "execution_count": 63,
     "metadata": {},
     "output_type": "execute_result"
    }
   ],
   "source": [
    "original_total_energy"
   ]
  },
  {
   "cell_type": "code",
   "execution_count": 64,
   "metadata": {},
   "outputs": [
    {
     "data": {
      "text/html": [
       "<div>\n",
       "<style scoped>\n",
       "    .dataframe tbody tr th:only-of-type {\n",
       "        vertical-align: middle;\n",
       "    }\n",
       "\n",
       "    .dataframe tbody tr th {\n",
       "        vertical-align: top;\n",
       "    }\n",
       "\n",
       "    .dataframe thead th {\n",
       "        text-align: right;\n",
       "    }\n",
       "</style>\n",
       "<table border=\"1\" class=\"dataframe\">\n",
       "  <thead>\n",
       "    <tr style=\"text-align: right;\">\n",
       "      <th></th>\n",
       "      <th>pumps_kw_0</th>\n",
       "      <th>pumps_kw_1</th>\n",
       "      <th>pumps_kw_2</th>\n",
       "      <th>pumps_kw_3</th>\n",
       "      <th>pumps_kw_4</th>\n",
       "      <th>pumps_kw_5</th>\n",
       "      <th>pumps_kw_6</th>\n",
       "      <th>total_pumps_kw</th>\n",
       "    </tr>\n",
       "  </thead>\n",
       "  <tbody>\n",
       "    <tr>\n",
       "      <th>0</th>\n",
       "      <td>1.610000</td>\n",
       "      <td>50.400000</td>\n",
       "      <td>6.380000</td>\n",
       "      <td>11.860000</td>\n",
       "      <td>22.060000</td>\n",
       "      <td>17.950000</td>\n",
       "      <td>50.400000</td>\n",
       "      <td>160.660000</td>\n",
       "    </tr>\n",
       "    <tr>\n",
       "      <th>1</th>\n",
       "      <td>1.610147</td>\n",
       "      <td>50.387226</td>\n",
       "      <td>6.345690</td>\n",
       "      <td>11.857262</td>\n",
       "      <td>22.058996</td>\n",
       "      <td>17.919146</td>\n",
       "      <td>50.380764</td>\n",
       "      <td>160.559230</td>\n",
       "    </tr>\n",
       "    <tr>\n",
       "      <th>2</th>\n",
       "      <td>1.610337</td>\n",
       "      <td>50.387226</td>\n",
       "      <td>6.346396</td>\n",
       "      <td>11.857262</td>\n",
       "      <td>22.058996</td>\n",
       "      <td>17.919146</td>\n",
       "      <td>50.380764</td>\n",
       "      <td>160.560127</td>\n",
       "    </tr>\n",
       "    <tr>\n",
       "      <th>3</th>\n",
       "      <td>1.610565</td>\n",
       "      <td>50.387226</td>\n",
       "      <td>6.346431</td>\n",
       "      <td>11.857262</td>\n",
       "      <td>22.058996</td>\n",
       "      <td>17.899815</td>\n",
       "      <td>50.380764</td>\n",
       "      <td>160.541059</td>\n",
       "    </tr>\n",
       "    <tr>\n",
       "      <th>4</th>\n",
       "      <td>1.610565</td>\n",
       "      <td>50.387226</td>\n",
       "      <td>6.346431</td>\n",
       "      <td>11.857262</td>\n",
       "      <td>22.058996</td>\n",
       "      <td>17.898388</td>\n",
       "      <td>50.380764</td>\n",
       "      <td>160.539632</td>\n",
       "    </tr>\n",
       "  </tbody>\n",
       "</table>\n",
       "</div>"
      ],
      "text/plain": [
       "   pumps_kw_0  pumps_kw_1  pumps_kw_2  pumps_kw_3  pumps_kw_4  pumps_kw_5  \\\n",
       "0    1.610000   50.400000    6.380000   11.860000   22.060000   17.950000   \n",
       "1    1.610147   50.387226    6.345690   11.857262   22.058996   17.919146   \n",
       "2    1.610337   50.387226    6.346396   11.857262   22.058996   17.919146   \n",
       "3    1.610565   50.387226    6.346431   11.857262   22.058996   17.899815   \n",
       "4    1.610565   50.387226    6.346431   11.857262   22.058996   17.898388   \n",
       "\n",
       "   pumps_kw_6  total_pumps_kw  \n",
       "0   50.400000      160.660000  \n",
       "1   50.380764      160.559230  \n",
       "2   50.380764      160.560127  \n",
       "3   50.380764      160.541059  \n",
       "4   50.380764      160.539632  "
      ]
     },
     "execution_count": 64,
     "metadata": {},
     "output_type": "execute_result"
    }
   ],
   "source": [
    "# somatorio da potencia de todas as bombas naquele time step\n",
    "potencia[\"total_pumps_kw\"] = 0\n",
    "for d in range(7):\n",
    "    potencia[\"total_pumps_kw\"] += potencia[\"pumps_kw_\"+str(d)]\n",
    "potencia.head()"
   ]
  },
  {
   "cell_type": "code",
   "execution_count": 65,
   "metadata": {},
   "outputs": [],
   "source": [
    "pred_total_energy = potencia['total_pumps_kw']*data_manual.t_step"
   ]
  },
  {
   "cell_type": "code",
   "execution_count": 66,
   "metadata": {},
   "outputs": [],
   "source": [
    "pred_accu_e = 0\n",
    "pred_accumulated_energy = []\n",
    "for g in range(len(pred_total_energy)):\n",
    "    pred_accu_e += pred_total_energy.iloc[g]\n",
    "    pred_accumulated_energy.append(pred_accu_e)"
   ]
  },
  {
   "cell_type": "code",
   "execution_count": 67,
   "metadata": {},
   "outputs": [],
   "source": [
    "real_accu_e = 0\n",
    "real_accumulated_energy = []\n",
    "for g in range(len(original_total_energy)):\n",
    "    real_accu_e += original_total_energy.iloc[g]\n",
    "    real_accumulated_energy.append(real_accu_e)"
   ]
  },
  {
   "cell_type": "code",
   "execution_count": 68,
   "metadata": {},
   "outputs": [],
   "source": [
    "with plt.style.context('science'):    \n",
    "    plt.plot(time_hour,real_accumulated_energy, label = 'Epanet')\n",
    "    plt.plot(time_hour,pred_accumulated_energy, label = 'Predicted')\n",
    "    plt.legend()\n",
    "    plt.title('Accumulated energy')\n",
    "    plt.xlabel('Hour')\n",
    "    plt.ylabel('Energy [J]')\n",
    "    plt.show"
   ]
  },
  {
   "cell_type": "code",
   "execution_count": 69,
   "metadata": {},
   "outputs": [
    {
     "ename": "NameError",
     "evalue": "name 'shap' is not defined",
     "output_type": "error",
     "traceback": [
      "\u001b[1;31m---------------------------------------------------------------------------\u001b[0m",
      "\u001b[1;31mNameError\u001b[0m                                 Traceback (most recent call last)",
      "\u001b[1;32mc:\\Users\\LENOVO\\OneDrive - Universidade de Aveiro\\universidade\\Mestrado\\2º Ano\\Tese\\Códigos\\Test_epanet\\dynamic_analyse_Richmond.ipynb Cell 95\u001b[0m line \u001b[0;36m1\n\u001b[1;32m----> <a href='vscode-notebook-cell:/c%3A/Users/LENOVO/OneDrive%20-%20Universidade%20de%20Aveiro/universidade/Mestrado/2%C2%BA%20Ano/Tese/C%C3%B3digos/Test_epanet/dynamic_analyse_Richmond.ipynb#Y162sZmlsZQ%3D%3D?line=0'>1</a>\u001b[0m shap\u001b[39m.\u001b[39msummary_plot(values, feature_names\u001b[39m=\u001b[39mX_test\u001b[39m.\u001b[39mcolumns, max_display\u001b[39m=\u001b[39m\u001b[39mlen\u001b[39m(X_test\u001b[39m.\u001b[39mcolumns))\n",
      "\u001b[1;31mNameError\u001b[0m: name 'shap' is not defined"
     ]
    }
   ],
   "source": [
    "shap.summary_plot(values, feature_names=X_test.columns, max_display=len(X_test.columns))"
   ]
  }
 ],
 "metadata": {
  "kernelspec": {
   "display_name": "Python 3 (ipykernel)",
   "language": "python",
   "name": "python3"
  },
  "language_info": {
   "codemirror_mode": {
    "name": "ipython",
    "version": 3
   },
   "file_extension": ".py",
   "mimetype": "text/x-python",
   "name": "python",
   "nbconvert_exporter": "python",
   "pygments_lexer": "ipython3",
   "version": "3.11.1"
  },
  "vscode": {
   "interpreter": {
    "hash": "108095e740c160118120ad5e22811b4aca9f414a6f3c55c969835bc2c10848d1"
   }
  }
 },
 "nbformat": 4,
 "nbformat_minor": 4
}
